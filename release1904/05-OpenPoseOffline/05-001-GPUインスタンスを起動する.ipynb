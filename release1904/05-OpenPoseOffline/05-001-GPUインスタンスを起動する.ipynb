{
 "cells": [
  {
   "cell_type": "markdown", 
   "metadata": {}, 
   "source": [
    "# GPUインスタンスを起動する\n", 
    "\n", 
    "S3に置かれている一連の画像ファイルを [OpenPose](https://github.com/CMU-Perceptual-Computing-Lab/openpose) で処理するためのGPUインスタンスを起動します。"
   ]
  }, 
  {
   "cell_type": "markdown", 
   "metadata": {}, 
   "source": [
    "## VCCアクセストークンの入力\n", 
    "\n", 
    "AWSのGPUインスタンスを VCノードとして起動するので、VC Controllerのアクセストークンが必要となります。次のセルを実行すると入力枠が表示されるのでアクセストークンの値を入力してください。"
   ]
  }, 
  {
   "cell_type": "code", 
   "execution_count": null, 
   "metadata": {}, 
   "outputs": [], 
   "source": [
    "from getpass import getpass\n", 
    "vcc_access_token = getpass()"
   ]
  }, 
  {
   "cell_type": "markdown", 
   "metadata": {}, 
   "source": [
    "アクセストークンの値が正しいことを確認します。"
   ]
  }, 
  {
   "cell_type": "code", 
   "execution_count": null, 
   "metadata": {}, 
   "outputs": [], 
   "source": [
    "from common import logsetting\n", 
    "from vcpsdk.vcpsdk import VcpSDK\n", 
    "\n", 
    "vcp = VcpSDK(vcc_access_token)"
   ]
  }, 
  {
   "cell_type": "code", 
   "execution_count": null, 
   "metadata": {}, 
   "outputs": [], 
   "source": [
    "vcp.df_ugroups()"
   ]
  }, 
  {
   "cell_type": "markdown", 
   "metadata": {}, 
   "source": [
    "# VCノードを起動する\n", 
    "\n", 
    "AWSのGPUインスタンスを１ノード、VCノードとして起動します。"
   ]
  }, 
  {
   "cell_type": "markdown", 
   "metadata": {
    "heading_collapsed": true
   }, 
   "source": [
    "## VCノードのspecを指定する\n", 
    "\n", 
    "GPUを利用するVCノードのspecを指定します。"
   ]
  }, 
  {
   "cell_type": "code", 
   "execution_count": null, 
   "metadata": {
    "hidden": true
   }, 
   "outputs": [], 
   "source": [
    "spec = vcp.get_spec('aws', 'gpu')\n", 
    "spec.image = 'vcp/gpu:1.4.2-nvidia-384'\n", 
    "spec.cloud_image = 'niivcp-gpu-20180903'\n", 
    "spec.ip_addresses = ['172.30.2.150']"
   ]
  }, 
  {
   "cell_type": "code", 
   "execution_count": null, 
   "metadata": {
    "hidden": true
   }, 
   "outputs": [], 
   "source": [
    "spec.instance_type = 'g3.4xlarge'     # 1GPU\n", 
    "# spec.instance_type = 'g3.8xlarge'   # 2GPU"
   ]
  }, 
  {
   "cell_type": "markdown", 
   "metadata": {
    "hidden": true
   }, 
   "source": [
    "VCノードに登録するSSHの公開鍵を指定します。"
   ]
  }, 
  {
   "cell_type": "code", 
   "execution_count": null, 
   "metadata": {
    "hidden": true
   }, 
   "outputs": [], 
   "source": [
    "import os\n", 
    "spec.set_ssh_pubkey(os.path.expanduser('~/.ssh/id_rsa.pub'))"
   ]
  }, 
  {
   "cell_type": "markdown", 
   "metadata": {
    "hidden": true
   }, 
   "source": [
    "`spec`の設定内容を確認します。"
   ]
  }, 
  {
   "cell_type": "code", 
   "execution_count": null, 
   "metadata": {
    "hidden": true
   }, 
   "outputs": [], 
   "source": [
    "print(spec)"
   ]
  }, 
  {
   "cell_type": "markdown", 
   "metadata": {
    "heading_collapsed": true
   }, 
   "source": [
    "## VCノードの起動"
   ]
  }, 
  {
   "cell_type": "code", 
   "execution_count": null, 
   "metadata": {
    "hidden": true
   }, 
   "outputs": [], 
   "source": [
    "ug = vcp.create_ugroup('openpose-05')"
   ]
  }, 
  {
   "cell_type": "code", 
   "execution_count": null, 
   "metadata": {
    "hidden": true, 
    "scrolled": true
   }, 
   "outputs": [], 
   "source": [
    "ug.create_unit('gpu', spec)"
   ]
  }, 
  {
   "cell_type": "markdown", 
   "metadata": {
    "hidden": true
   }, 
   "source": [
    "起動したVCノードの状態を表示します。"
   ]
  }, 
  {
   "cell_type": "code", 
   "execution_count": null, 
   "metadata": {
    "hidden": true
   }, 
   "outputs": [], 
   "source": [
    "ug.df_nodes()"
   ]
  }, 
  {
   "cell_type": "markdown", 
   "metadata": {
    "heading_collapsed": true
   }, 
   "source": [
    "## Ansibleの設定\n", 
    "\n", 
    "VCノードをAnsibleのインベントリに登録します。"
   ]
  }, 
  {
   "cell_type": "code", 
   "execution_count": null, 
   "metadata": {
    "hidden": true
   }, 
   "outputs": [], 
   "source": [
    "from pathlib import Path\n", 
    "\n", 
    "inventory = Path('./hosts')\n", 
    "if inventory.exists():\n", 
    "    inventory.rename(inventory.with_suffix('.orig'))\n", 
    "\n", 
    "with inventory.open(mode='w') as f:\n", 
    "    for x in ug.find_ip_addresses():\n", 
    "        f.write(f'[{ug.name}]\\n')\n", 
    "        f.write(f'{x}\\n')\n", 
    "    f.write(f'''\n", 
    "[{ug.name}:vars]\n", 
    "ansible_user=root\n", 
    "\n", 
    "''')\n", 
    "    \n", 
    "!cat {inventory}\n", 
    "if inventory.with_suffix('.orig').exists():\n", 
    "    try:\n", 
    "        !diff -u {inventory.with_suffix('.orig')} {inventory}\n", 
    "    except:\n", 
    "        pass"
   ]
  }, 
  {
   "cell_type": "markdown", 
   "metadata": {
    "hidden": true
   }, 
   "source": [
    "`~/.ssh/known_hosts`を更新します。"
   ]
  }, 
  {
   "cell_type": "code", 
   "execution_count": null, 
   "metadata": {
    "hidden": true
   }, 
   "outputs": [], 
   "source": [
    "for addr in ug.find_ip_addresses():\n", 
    "    !ssh-keygen -R {addr}\n", 
    "    !ssh-keyscan -H {addr} >> ~/.ssh/known_hosts"
   ]
  }, 
  {
   "cell_type": "code", 
   "execution_count": null, 
   "metadata": {
    "hidden": true
   }, 
   "outputs": [], 
   "source": [
    "ansible_cfg = Path('./ansible.cfg')\n", 
    "if ansible_cfg.exists():\n", 
    "    ansible_cfg.rename(ansible_cfg.with_suffix('.orig'))\n", 
    "\n", 
    "with ansible_cfg.open(mode='w') as f:\n", 
    "    f.write(f'''\n", 
    "[defaults]\n", 
    "inventory = {inventory.absolute()}\n", 
    "''')\n", 
    "    \n", 
    "!cat {ansible_cfg}\n", 
    "if ansible_cfg.with_suffix('.orig').exists():\n", 
    "    try:\n", 
    "        !diff -u {ansible_cfg.with_suffix('.orig')} {ansible_cfg}\n", 
    "    except:\n", 
    "        pass"
   ]
  }, 
  {
   "cell_type": "markdown", 
   "metadata": {
    "hidden": true
   }, 
   "source": [
    "Ansibleでの疎通確認を行います。"
   ]
  }, 
  {
   "cell_type": "code", 
   "execution_count": null, 
   "metadata": {
    "hidden": true
   }, 
   "outputs": [], 
   "source": [
    "target = ug.name"
   ]
  }, 
  {
   "cell_type": "code", 
   "execution_count": null, 
   "metadata": {
    "hidden": true
   }, 
   "outputs": [], 
   "source": [
    "!ansible {target} -m ping"
   ]
  }, 
  {
   "cell_type": "code", 
   "execution_count": null, 
   "metadata": {
    "hidden": true
   }, 
   "outputs": [], 
   "source": [
    "!ansible {target} -b -a 'whoami'"
   ]
  }, 
  {
   "cell_type": "markdown", 
   "metadata": {
    "heading_collapsed": true
   }, 
   "source": [
    "## GPU環境の確認\n", 
    "\n", 
    "`nvidia-smi`コマンドを実行して GPU 環境の確認を行います。"
   ]
  }, 
  {
   "cell_type": "code", 
   "execution_count": null, 
   "metadata": {
    "hidden": true, 
    "scrolled": true
   }, 
   "outputs": [], 
   "source": [
    "!ansible {target} -a 'docker pull nvidia/cuda:8.0-cudnn5-runtime-ubuntu16.04'"
   ]
  }, 
  {
   "cell_type": "code", 
   "execution_count": null, 
   "metadata": {
    "hidden": true
   }, 
   "outputs": [], 
   "source": [
    "!ansible {target} -a 'docker run --runtime=nvidia --rm nvidia/cuda:8.0-cudnn5-runtime-ubuntu16.04 \\\n", 
    "    nvidia-smi'"
   ]
  }, 
  {
   "cell_type": "markdown", 
   "metadata": {
    "heading_collapsed": true
   }, 
   "source": [
    "## ツールなどのインストール"
   ]
  }, 
  {
   "cell_type": "markdown", 
   "metadata": {
    "hidden": true
   }, 
   "source": [
    "`docker-compose` をインストールします。"
   ]
  }, 
  {
   "cell_type": "code", 
   "execution_count": null, 
   "metadata": {
    "hidden": true
   }, 
   "outputs": [], 
   "source": [
    "!ansible {target} -b -m shell \\\n", 
    "    -a 'curl -L \"https://github.com/docker/compose/releases/download/1.23.2/docker-compose-$(uname -s)-$(uname -m)\" \\\n", 
    "    -o /usr/local/bin/docker-compose warn=False'"
   ]
  }, 
  {
   "cell_type": "code", 
   "execution_count": null, 
   "metadata": {
    "hidden": true
   }, 
   "outputs": [], 
   "source": [
    "!ansible {target} -b -m file -a 'path=/usr/local/bin/docker-compose mode=0755'"
   ]
  }, 
  {
   "cell_type": "markdown", 
   "metadata": {
    "hidden": true
   }, 
   "source": [
    "`docker-compose`を実行できることを確認します。"
   ]
  }, 
  {
   "cell_type": "code", 
   "execution_count": null, 
   "metadata": {
    "hidden": true
   }, 
   "outputs": [], 
   "source": [
    "!ansible {target} -a 'docker-compose version'"
   ]
  }, 
  {
   "cell_type": "markdown", 
   "metadata": {
    "hidden": true
   }, 
   "source": [
    "S3へのアクセスに[goofys](https://github.com/kahing/goofys)を利用する際に必要となる fuse をインストールします。"
   ]
  }, 
  {
   "cell_type": "code", 
   "execution_count": null, 
   "metadata": {
    "hidden": true
   }, 
   "outputs": [], 
   "source": [
    "!ansible {target} -b -m apt -a 'name=fuse update_cache=yes'"
   ]
  }, 
  {
   "cell_type": "markdown", 
   "metadata": {
    "hidden": true
   }, 
   "source": [
    "`/dev/fuse`があることを確認します。"
   ]
  }, 
  {
   "cell_type": "code", 
   "execution_count": null, 
   "metadata": {
    "hidden": true
   }, 
   "outputs": [], 
   "source": [
    "!ansible {target} -a 'ls -l /dev/fuse'"
   ]
  }
 ], 
 "metadata": {
  "kernelspec": {
   "display_name": "Python 3", 
   "language": "python", 
   "name": "python3"
  }, 
  "language_info": {
   "codemirror_mode": {
    "name": "ipython", 
    "version": 3
   }, 
   "file_extension": ".py", 
   "mimetype": "text/x-python", 
   "name": "python", 
   "nbconvert_exporter": "python", 
   "pygments_lexer": "ipython3", 
   "version": "3.6.6"
  }, 
  "toc": {
   "base_numbering": 1, 
   "nav_menu": {}, 
   "number_sections": true, 
   "sideBar": true, 
   "skip_h1_title": false, 
   "title_cell": "Table of Contents", 
   "title_sidebar": "Contents", 
   "toc_cell": false, 
   "toc_position": {
    "height": "calc(100% - 180px)", 
    "left": "10px", 
    "top": "150px", 
    "width": "306.2px"
   }, 
   "toc_section_display": true, 
   "toc_window_display": true
  }
 }, 
 "nbformat": 4, 
 "nbformat_minor": 2
}
