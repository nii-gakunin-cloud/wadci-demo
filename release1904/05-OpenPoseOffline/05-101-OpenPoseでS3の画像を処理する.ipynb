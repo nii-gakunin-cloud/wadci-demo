{
 "cells": [
  {
   "cell_type": "markdown", 
   "metadata": {}, 
   "source": [
    "# OpenPoseでS3の画像を処理する\n", 
    "\n", 
    "S3に置かれている一連の画像ファイルを [OpenPose](https://github.com/CMU-Perceptual-Computing-Lab/openpose) で処理します。処理した画像ファイルは S3 に保存します。"
   ]
  }, 
  {
   "cell_type": "markdown", 
   "metadata": {}, 
   "source": [
    "このNotebookではVCノードとして起動しているAWSのGPUインスタンスを使用してS3の画像ファイルをOpenPoseで処理します。S3の画像ファイルの取得、保存には[goofys](https://github.com/kahing/goofys) を利用してファイルシステムとしてアクセスします。"
   ]
  }, 
  {
   "cell_type": "markdown", 
   "metadata": {}, 
   "source": [
    "# 事前チェック\n", 
    "\n", 
    "このNotebookの処理は「05-001-GPUインスタンスを起動する.ipynb」で起動したGPUインスタンスを利用することを想定しています。\n", 
    "\n", 
    "それ以外のノードに対して環境構築を行う場合は、以下の条件を満たすように準備を行ってください。\n", 
    "\n", 
    "1. 対象となるノードを Ansible で操作できる\n", 
    "1. GPUが利用可能であること\n", 
    "1. [nvidia-docker](https://github.com/NVIDIA/nvidia-docker)のセットアップが済んでいること\n", 
    "1. 構築に利用するツールがインストールされていること\n", 
    "  - rsync\n", 
    "  - docker-compose\n", 
    "1. goofs がセットアップされていること"
   ]
  }, 
  {
   "cell_type": "markdown", 
   "metadata": {}, 
   "source": [
    "GPUインスタンスのVCノードを Ansible で操作できることを確認します。"
   ]
  }, 
  {
   "cell_type": "code", 
   "execution_count": null, 
   "metadata": {}, 
   "outputs": [], 
   "source": [
    "target = 'openpose-05'"
   ]
  }, 
  {
   "cell_type": "code", 
   "execution_count": null, 
   "metadata": {}, 
   "outputs": [], 
   "source": [
    "!ansible {target} -m ping"
   ]
  }, 
  {
   "cell_type": "markdown", 
   "metadata": {}, 
   "source": [
    "GPUが利用できることを確認します。`/dev/nvidia0` があることを確認します。"
   ]
  }, 
  {
   "cell_type": "code", 
   "execution_count": null, 
   "metadata": {}, 
   "outputs": [], 
   "source": [
    "!ansible {target} -a 'ls -la /dev/nvidia0'"
   ]
  }, 
  {
   "cell_type": "markdown", 
   "metadata": {}, 
   "source": [
    "Docker のランタイムとして nvidia が指定できることを確認します。\n", 
    "\n", 
    "nvidia のランタイムが登録されている場合は、以下のような出力となります。\n", 
    "```\n", 
    "{nvidia-container-runtime []}\n", 
    "```"
   ]
  }, 
  {
   "cell_type": "code", 
   "execution_count": null, 
   "metadata": {}, 
   "outputs": [], 
   "source": [
    "!ansible {target} -a 'docker info -f \"{{%raw%}}{{{{.Runtimes.nvidia}}}}{{%endraw%}}\"'"
   ]
  }, 
  {
   "cell_type": "markdown", 
   "metadata": {}, 
   "source": [
    "必要なコマンドがインストールされていることを確認します。"
   ]
  }, 
  {
   "cell_type": "code", 
   "execution_count": null, 
   "metadata": {}, 
   "outputs": [], 
   "source": [
    "!ansible {target} -a 'which rsync'"
   ]
  }, 
  {
   "cell_type": "code", 
   "execution_count": null, 
   "metadata": {}, 
   "outputs": [], 
   "source": [
    "!ansible {target} -a 'docker-compose version'"
   ]
  }, 
  {
   "cell_type": "markdown", 
   "metadata": {}, 
   "source": [
    "[FUSE](https://github.com/libfuse/libfuse) のセットアップが済んでいて `/dev/fuse`が存在していることを確認します。"
   ]
  }, 
  {
   "cell_type": "code", 
   "execution_count": null, 
   "metadata": {}, 
   "outputs": [], 
   "source": [
    "!ansible {target} -a 'ls -la /dev/fuse'"
   ]
  }, 
  {
   "cell_type": "markdown", 
   "metadata": {}, 
   "source": [
    "# パラメータの設定"
   ]
  }, 
  {
   "cell_type": "markdown", 
   "metadata": {}, 
   "source": [
    "## S3 に関するパラメータの指定"
   ]
  }, 
  {
   "cell_type": "markdown", 
   "metadata": {}, 
   "source": [
    "処理対象となるS3のバケット名を指定してください。"
   ]
  }, 
  {
   "cell_type": "code", 
   "execution_count": null, 
   "metadata": {}, 
   "outputs": [], 
   "source": [
    "s3_bucket = 'nii-dp-test-20190220'"
   ]
  }, 
  {
   "cell_type": "markdown", 
   "metadata": {}, 
   "source": [
    "処理対象となるバケットにおけるパスを指定してください。"
   ]
  }, 
  {
   "cell_type": "code", 
   "execution_count": null, 
   "metadata": {}, 
   "outputs": [], 
   "source": [
    "s3_src_path = 'topics/distributed-video1/year=2019/month=03/day=29'"
   ]
  }, 
  {
   "cell_type": "markdown", 
   "metadata": {}, 
   "source": [
    "処理結果の画像を格納するバケットにおけるパスを指定してください。"
   ]
  }, 
  {
   "cell_type": "code", 
   "execution_count": null, 
   "metadata": {}, 
   "outputs": [], 
   "source": [
    "s3_dest_path = 'openpose/distributed-video1/year=2019/month=03/day=29'"
   ]
  }, 
  {
   "cell_type": "markdown", 
   "metadata": {}, 
   "source": [
    "AWS S3にアクセスするためのアクセスキーとシークレットキーを入力してください。"
   ]
  }, 
  {
   "cell_type": "code", 
   "execution_count": null, 
   "metadata": {}, 
   "outputs": [], 
   "source": [
    "from getpass import getpass"
   ]
  }, 
  {
   "cell_type": "code", 
   "execution_count": null, 
   "metadata": {}, 
   "outputs": [], 
   "source": [
    "aws_access_key = getpass()"
   ]
  }, 
  {
   "cell_type": "code", 
   "execution_count": null, 
   "metadata": {}, 
   "outputs": [], 
   "source": [
    "aws_secret_key = getpass()"
   ]
  }, 
  {
   "cell_type": "markdown", 
   "metadata": {}, 
   "source": [
    "## 処理対象の絞り込みに関するパラメータ"
   ]
  }, 
  {
   "cell_type": "markdown", 
   "metadata": {}, 
   "source": [
    "処理スクリプトの引数を格納するリストを初期化します。"
   ]
  }, 
  {
   "cell_type": "code", 
   "execution_count": null, 
   "metadata": {}, 
   "outputs": [], 
   "source": [
    "openpose_opts = []"
   ]
  }, 
  {
   "cell_type": "markdown", 
   "metadata": {}, 
   "source": [
    "処理対象となる画像数の上限を設定する場合は次のセルを実行してください。\n", 
    "\n", 
    "> 700枚の画像を処理するのに１分半～２分程度かかります。"
   ]
  }, 
  {
   "cell_type": "code", 
   "execution_count": null, 
   "metadata": {}, 
   "outputs": [], 
   "source": [
    "openpose_opts.extend([\n", 
    "    '-M',\n", 
    "    '700',        # OpenPoseで処理する画像数の上限枚数\n", 
    "])"
   ]
  }, 
  {
   "cell_type": "markdown", 
   "metadata": {}, 
   "source": [
    "処理対象とする画像ファイルを、ある時刻以降のものだけに限定する場合は次のセルで値の指定を行い実行してください。\n", 
    "\n", 
    "> 時刻の比較は画像ファイルのタイムスタンプとの比較になります。Kafkaのトピックに送った時刻とは異なりますので気を付けてください。また、指定した時刻は `JST` とみなします。"
   ]
  }, 
  {
   "cell_type": "code", 
   "execution_count": null, 
   "metadata": {}, 
   "outputs": [], 
   "source": [
    "openpose_opts.extend([\n", 
    "    '-T',\n", 
    "    '2019/03/29 0:00',\n", 
    "])"
   ]
  }, 
  {
   "cell_type": "markdown", 
   "metadata": {}, 
   "source": [
    "OpenPoseの対象となる画像ファイルを、数枚に１枚の割合のみにする場合は、次のセルのコメントを外してを実行してください。"
   ]
  }, 
  {
   "cell_type": "code", 
   "execution_count": null, 
   "metadata": {}, 
   "outputs": [], 
   "source": [
    "# openpose_opts.extend([\n", 
    "#    '-D',\n", 
    "#    '3',        # この場合、画像3枚あたり1枚だけ OpenPoseで処理して、あとは捨てる\n", 
    "# ])"
   ]
  }, 
  {
   "cell_type": "markdown", 
   "metadata": {}, 
   "source": [
    "# OpenPoseの実行"
   ]
  }, 
  {
   "cell_type": "markdown", 
   "metadata": {}, 
   "source": [
    "## 設定ファイルの配置"
   ]
  }, 
  {
   "cell_type": "code", 
   "execution_count": null, 
   "metadata": {}, 
   "outputs": [], 
   "source": [
    "params = {\n", 
    "    'registry': '192.168.2.1:5001',\n", 
    "    's3_bucket': s3_bucket,\n", 
    "    'script_opts': [\n", 
    "        '-s', '/mnt/s3/' + s3_src_path,\n", 
    "        '-d', '/mnt/s3/' + s3_dest_path,\n", 
    "    ],\n", 
    "    's3_access_key': aws_access_key,\n", 
    "    's3_secret_key': aws_secret_key,\n", 
    "}\n", 
    "\n", 
    "if 'openpose_opts' in locals():\n", 
    "    params['script_opts'].extend(openpose_opts)"
   ]
  }, 
  {
   "cell_type": "code", 
   "execution_count": null, 
   "metadata": {
    "scrolled": true
   }, 
   "outputs": [], 
   "source": [
    "from tempfile import TemporaryDirectory\n", 
    "from pathlib import Path\n", 
    "import json\n", 
    "\n", 
    "storage = 's3'\n", 
    "op_dir = storage + '/openpose-offline'\n", 
    "!ansible {target} -m synchronize -a 'src=openpose/openpose-offline dest=./{storage}/'\n", 
    "with TemporaryDirectory() as work_dir:\n", 
    "    vars_file = Path(work_dir) / 'vars.json'\n", 
    "    with vars_file.open(mode='w') as f:\n", 
    "        json.dump(params, f)\n", 
    "    !ansible {target} -m template -e @{vars_file} \\\n", 
    "        -a 'src=openpose/openpose-offline/docker-compose.yml dest={op_dir}/'\n", 
    "    !ansible {target} -m template -e storage={storage} -e @{vars_file} \\\n", 
    "        -a 'src=openpose/openpose-offline/.env dest={op_dir}/'"
   ]
  }, 
  {
   "cell_type": "markdown", 
   "metadata": {}, 
   "source": [
    "## OpenPoseの実行\n", 
    "\n", 
    "S3 の画像ファイルをOpenPoseで処理します。"
   ]
  }, 
  {
   "cell_type": "markdown", 
   "metadata": {}, 
   "source": [
    "まず、OpenPoseのコンテナイメージを取得します。"
   ]
  }, 
  {
   "cell_type": "code", 
   "execution_count": null, 
   "metadata": {}, 
   "outputs": [], 
   "source": [
    "!ansible {target} -a 'chdir={op_dir} docker-compose pull'"
   ]
  }, 
  {
   "cell_type": "markdown", 
   "metadata": {}, 
   "source": [
    "OpenPoseの処理を行うコンテナを起動して、処理を行います。"
   ]
  }, 
  {
   "cell_type": "code", 
   "execution_count": null, 
   "metadata": {}, 
   "outputs": [], 
   "source": [
    "!ansible {target} -a 'chdir={op_dir} docker-compose up'"
   ]
  }, 
  {
   "cell_type": "markdown", 
   "metadata": {}, 
   "source": [
    "# 処理結果の確認\n", 
    "\n", 
    "OpenPose で処理した一連の画像を動画に変換して表示します。"
   ]
  }, 
  {
   "cell_type": "markdown", 
   "metadata": {}, 
   "source": [
    "## パラメータの指定"
   ]
  }, 
  {
   "cell_type": "markdown", 
   "metadata": {}, 
   "source": [
    "画像ファイルのあるディレクトリを指定してください。"
   ]
  }, 
  {
   "cell_type": "code", 
   "execution_count": null, 
   "metadata": {}, 
   "outputs": [], 
   "source": [
    "image_dir = s3_dest_path\n", 
    "print(image_dir)"
   ]
  }, 
  {
   "cell_type": "markdown", 
   "metadata": {}, 
   "source": [
    "動画のサイズを指定してください。"
   ]
  }, 
  {
   "cell_type": "code", 
   "execution_count": null, 
   "metadata": {}, 
   "outputs": [], 
   "source": [
    "#width = 320\n", 
    "#height = 200\n", 
    "width = 640\n", 
    "height = 400"
   ]
  }, 
  {
   "cell_type": "markdown", 
   "metadata": {}, 
   "source": [
    "動画のフレームレートを指定してください。"
   ]
  }, 
  {
   "cell_type": "code", 
   "execution_count": null, 
   "metadata": {}, 
   "outputs": [], 
   "source": [
    "rate = 10.0"
   ]
  }, 
  {
   "cell_type": "markdown", 
   "metadata": {}, 
   "source": [
    "処理対象とする画像ファイル数の上限を指定してください。"
   ]
  }, 
  {
   "cell_type": "code", 
   "execution_count": null, 
   "metadata": {}, 
   "outputs": [], 
   "source": [
    "max_images = 1000"
   ]
  }, 
  {
   "cell_type": "markdown", 
   "metadata": {}, 
   "source": [
    "処理対象にある画像ファイルのうち、スキップする画像数を指定してください。"
   ]
  }, 
  {
   "cell_type": "code", 
   "execution_count": null, 
   "metadata": {}, 
   "outputs": [], 
   "source": [
    "skip_images = 200"
   ]
  }, 
  {
   "cell_type": "markdown", 
   "metadata": {}, 
   "source": [
    "## 動画の作成"
   ]
  }, 
  {
   "cell_type": "markdown", 
   "metadata": {}, 
   "source": [
    "設定ファイルをGPUインスタンスに配置します。"
   ]
  }, 
  {
   "cell_type": "code", 
   "execution_count": null, 
   "metadata": {}, 
   "outputs": [], 
   "source": [
    "params = {\n", 
    "    'registry': '192.168.2.1:5001',\n", 
    "    's3_bucket': s3_bucket,\n", 
    "    'script_opts': [\n", 
    "        '-s', '/mnt/s3/' + image_dir,\n", 
    "        '-W', width,\n", 
    "        '-H', height,\n", 
    "        '-R', rate,\n", 
    "        '-M', max_images,\n", 
    "        '-S', skip_images,\n", 
    "    ],\n", 
    "    's3_access_key': aws_access_key,\n", 
    "    's3_secret_key': aws_secret_key,\n", 
    "}"
   ]
  }, 
  {
   "cell_type": "code", 
   "execution_count": null, 
   "metadata": {
    "scrolled": true
   }, 
   "outputs": [], 
   "source": [
    "from tempfile import TemporaryDirectory\n", 
    "from pathlib import Path\n", 
    "import json\n", 
    "\n", 
    "ffmpeg_dir = storage + '/ffmpeg'\n", 
    "!ansible {target} -m synchronize -a 'src=ffmpeg dest=./{storage}'\n", 
    "with TemporaryDirectory() as work_dir:\n", 
    "    vars_file = Path(work_dir) / 'vars.json'\n", 
    "    with vars_file.open(mode='w') as f:\n", 
    "        json.dump(params, f)\n", 
    "    !ansible {target} -m template -e @{vars_file} \\\n", 
    "        -a 'src=ffmpeg/docker-compose.yml dest={ffmpeg_dir}/'\n", 
    "    !ansible {target} -m template  -e storage={storage} -e @{vars_file} \\\n", 
    "        -a 'src=ffmpeg/.env dest={ffmpeg_dir}/'"
   ]
  }, 
  {
   "cell_type": "markdown", 
   "metadata": {}, 
   "source": [
    "動画作成を行うコンテナを起動します。\n", 
    "\n", 
    "> 1500枚の画像から動画を作成するのに１分弱かかります。"
   ]
  }, 
  {
   "cell_type": "code", 
   "execution_count": null, 
   "metadata": {}, 
   "outputs": [], 
   "source": [
    "!ansible {target} -a 'chdir={ffmpeg_dir} docker-compose pull'"
   ]
  }, 
  {
   "cell_type": "code", 
   "execution_count": null, 
   "metadata": {}, 
   "outputs": [], 
   "source": [
    "!ansible {target} -a 'chdir={ffmpeg_dir} docker-compose up'"
   ]
  }, 
  {
   "cell_type": "markdown", 
   "metadata": {}, 
   "source": [
    "動画ファイルをNotebook環境に取得します。"
   ]
  }, 
  {
   "cell_type": "code", 
   "execution_count": null, 
   "metadata": {}, 
   "outputs": [], 
   "source": [
    "from datetime import datetime\n", 
    "\n", 
    "mov_file = f'mp4/openpose-{datetime.now().strftime(\"%Y%m%d%H%M%S\")}.mp4'\n", 
    "!mkdir -p mp4\n", 
    "!ansible {target} -m fetch -a 'src={ffmpeg_dir}/output/openpose.mp4 dest={mov_file} flat=yes'"
   ]
  }, 
  {
   "cell_type": "markdown", 
   "metadata": {}, 
   "source": [
    "## 動画の表示\n", 
    "\n", 
    "OpenPoseで処理した画像から作成した動画を表示します。"
   ]
  }, 
  {
   "cell_type": "markdown", 
   "metadata": {}, 
   "source": [
    "> 処理対象とする画像のスキップ数を大きくしすぎると、処理対象となる画像が無くなり動画が表示されません。"
   ]
  }, 
  {
   "cell_type": "code", 
   "execution_count": null, 
   "metadata": {}, 
   "outputs": [], 
   "source": [
    "from IPython.display import Video\n", 
    "Video(mov_file)"
   ]
  }
 ], 
 "metadata": {
  "kernelspec": {
   "display_name": "Python 3", 
   "language": "python", 
   "name": "python3"
  }, 
  "language_info": {
   "codemirror_mode": {
    "name": "ipython", 
    "version": 3
   }, 
   "file_extension": ".py", 
   "mimetype": "text/x-python", 
   "name": "python", 
   "nbconvert_exporter": "python", 
   "pygments_lexer": "ipython3", 
   "version": "3.6.6"
  }, 
  "toc": {
   "base_numbering": 1, 
   "nav_menu": {}, 
   "number_sections": true, 
   "sideBar": true, 
   "skip_h1_title": false, 
   "title_cell": "Table of Contents", 
   "title_sidebar": "Contents", 
   "toc_cell": false, 
   "toc_position": {
    "height": "calc(100% - 180px)", 
    "left": "10px", 
    "top": "150px", 
    "width": "245px"
   }, 
   "toc_section_display": true, 
   "toc_window_display": true
  }
 }, 
 "nbformat": 4, 
 "nbformat_minor": 2
}
