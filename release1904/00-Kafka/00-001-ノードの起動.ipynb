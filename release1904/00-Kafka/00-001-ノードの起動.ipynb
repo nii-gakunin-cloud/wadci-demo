{
 "cells": [
  {
   "cell_type": "markdown", 
   "metadata": {}, 
   "source": [
    "# Apache Kafkaの環境を構築するためのノードを起動する\n", 
    "\n", 
    "Apache Kafka の環境を構築するノードを AWS EC2インスタンスで起動します。"
   ]
  }, 
  {
   "cell_type": "markdown", 
   "metadata": {}, 
   "source": [
    "ここでは、以下のノードを起動することを想定しています。\n", 
    "\n", 
    "* Apache Kafka Broker\n", 
    "  - 3ノード\n", 
    "* Kafka Connector\n", 
    "  - 1ノード"
   ]
  }, 
  {
   "cell_type": "markdown", 
   "metadata": {}, 
   "source": [
    "# パラメータの指定"
   ]
  }, 
  {
   "cell_type": "markdown", 
   "metadata": {}, 
   "source": [
    "## Vcp SDK\n", 
    "\n", 
    "ノードの起動には Vcp SDK を利用します。VCコントローラのアクセストークンを用意してください。"
   ]
  }, 
  {
   "cell_type": "markdown", 
   "metadata": {}, 
   "source": [
    "次のセルを実行すると表示される入力枠にアクセストークンを入力してください。"
   ]
  }, 
  {
   "cell_type": "code", 
   "execution_count": null, 
   "metadata": {}, 
   "outputs": [], 
   "source": [
    "from getpass import getpass\n", 
    "access_token = getpass()"
   ]
  }, 
  {
   "cell_type": "markdown", 
   "metadata": {}, 
   "source": [
    "入力されたアクセストークンが正しいことを確認します。"
   ]
  }, 
  {
   "cell_type": "code", 
   "execution_count": null, 
   "metadata": {}, 
   "outputs": [], 
   "source": [
    "from common import logsetting\n", 
    "from vcpsdk.vcpsdk import VcpSDK\n", 
    "\n", 
    "vcp = VcpSDK(access_token)"
   ]
  }, 
  {
   "cell_type": "markdown", 
   "metadata": {}, 
   "source": [
    "## VCノードに割り当てるリソース"
   ]
  }, 
  {
   "cell_type": "markdown", 
   "metadata": {}, 
   "source": [
    "### broker\n", 
    "\n", 
    "Apache Kafka の broker を実行するVCノードに割り当てるリソース量を指定します。"
   ]
  }, 
  {
   "cell_type": "markdown", 
   "metadata": {}, 
   "source": [
    "VCノードとして起動するAWS EC2のインスタンスタイプを指定してください。"
   ]
  }, 
  {
   "cell_type": "code", 
   "execution_count": null, 
   "metadata": {}, 
   "outputs": [], 
   "source": [
    "broker_instance_type = 'm4.large'"
   ]
  }, 
  {
   "cell_type": "markdown", 
   "metadata": {}, 
   "source": [
    "VCノードに割り当てるディスクサイズ(GB)を指定してください。"
   ]
  }, 
  {
   "cell_type": "code", 
   "execution_count": null, 
   "metadata": {}, 
   "outputs": [], 
   "source": [
    "broker_disk_size = 64"
   ]
  }, 
  {
   "cell_type": "markdown", 
   "metadata": {}, 
   "source": [
    "VCノードに割り当てる IP アドレスを指定してください。"
   ]
  }, 
  {
   "cell_type": "code", 
   "execution_count": null, 
   "metadata": {}, 
   "outputs": [], 
   "source": [
    "broker_ip_addresses = [\n", 
    "    '172.30.2.10',\n", 
    "    '172.30.2.11',\n", 
    "    '172.30.2.12',\n", 
    "]"
   ]
  }, 
  {
   "cell_type": "markdown", 
   "metadata": {}, 
   "source": [
    "### Kafkaコネクタ"
   ]
  }, 
  {
   "cell_type": "markdown", 
   "metadata": {}, 
   "source": [
    "VCノードとして起動するAWS EC2のインスタンスタイプを指定してください。"
   ]
  }, 
  {
   "cell_type": "code", 
   "execution_count": null, 
   "metadata": {}, 
   "outputs": [], 
   "source": [
    "connector_instance_type = 'm4.large'"
   ]
  }, 
  {
   "cell_type": "markdown", 
   "metadata": {}, 
   "source": [
    "VCノードに割り当てるディスクサイズ(GB)を指定してください。"
   ]
  }, 
  {
   "cell_type": "code", 
   "execution_count": null, 
   "metadata": {}, 
   "outputs": [], 
   "source": [
    "connector_disk_size = 32"
   ]
  }, 
  {
   "cell_type": "markdown", 
   "metadata": {}, 
   "source": [
    "VCノードに割り当てる IP アドレスを指定してください。"
   ]
  }, 
  {
   "cell_type": "code", 
   "execution_count": null, 
   "metadata": {}, 
   "outputs": [], 
   "source": [
    "connector_ip_address = '172.30.2.20'"
   ]
  }, 
  {
   "cell_type": "markdown", 
   "metadata": {}, 
   "source": [
    "## UnitGroup名"
   ]
  }, 
  {
   "cell_type": "markdown", 
   "metadata": {}, 
   "source": [
    "この Notebook で起動するVCノードをグループとして扱う場合の名前を指定してください。"
   ]
  }, 
  {
   "cell_type": "code", 
   "execution_count": null, 
   "metadata": {}, 
   "outputs": [], 
   "source": [
    "ugroup_name = 'dp-kafka'"
   ]
  }, 
  {
   "cell_type": "markdown", 
   "metadata": {}, 
   "source": [
    "## SSHの公開鍵"
   ]
  }, 
  {
   "cell_type": "markdown", 
   "metadata": {}, 
   "source": [
    "起動したVCノードに登録する SSH の公開鍵のパスを指定してください。"
   ]
  }, 
  {
   "cell_type": "code", 
   "execution_count": null, 
   "metadata": {}, 
   "outputs": [], 
   "source": [
    "from pathlib import Path\n", 
    "ssh_publickey_path = Path('~/.ssh/id_rsa.pub').expanduser()"
   ]
  }, 
  {
   "cell_type": "markdown", 
   "metadata": {}, 
   "source": [
    "公開鍵とペアになる秘密鍵のパスを指定してください。"
   ]
  }, 
  {
   "cell_type": "code", 
   "execution_count": null, 
   "metadata": {}, 
   "outputs": [], 
   "source": [
    "ssh_privatekey_path = Path('~/.ssh/id_rsa').expanduser()"
   ]
  }, 
  {
   "cell_type": "markdown", 
   "metadata": {
    "heading_collapsed": true
   }, 
   "source": [
    "# VCノードの起動"
   ]
  }, 
  {
   "cell_type": "markdown", 
   "metadata": {
    "hidden": true
   }, 
   "source": [
    "## specの作成"
   ]
  }, 
  {
   "cell_type": "code", 
   "execution_count": null, 
   "metadata": {
    "hidden": true
   }, 
   "outputs": [], 
   "source": [
    "spec_b = vcp.get_spec(\"aws\", \"medium\")\n", 
    "spec_b.image = 'vcp/base:1.3-centos'\n", 
    "spec_b.set_ssh_pubkey(ssh_publickey_path)\n", 
    "spec_b.instance_type = broker_instance_type\n", 
    "spec_b.volume_size = broker_disk_size\n", 
    "spec_b.num_nodes = len(broker_ip_addresses)\n", 
    "spec_b.ip_addresses = broker_ip_addresses\n", 
    "print(spec_b)"
   ]
  }, 
  {
   "cell_type": "code", 
   "execution_count": null, 
   "metadata": {
    "hidden": true
   }, 
   "outputs": [], 
   "source": [
    "spec_c = vcp.get_spec(\"aws\", \"medium\")\n", 
    "spec_c.image = 'vcp/base:1.3-centos'\n", 
    "spec_c.set_ssh_pubkey(ssh_publickey_path)\n", 
    "spec_c.instance_type = connector_instance_type\n", 
    "spec_c.volume_size = connector_disk_size\n", 
    "spec_c.ip_addresses = [connector_ip_address]\n", 
    "print(spec_c)"
   ]
  }, 
  {
   "cell_type": "markdown", 
   "metadata": {
    "heading_collapsed": true, 
    "hidden": true
   }, 
   "source": [
    "## VCノードの起動"
   ]
  }, 
  {
   "cell_type": "markdown", 
   "metadata": {
    "hidden": true
   }, 
   "source": [
    "VCノードを起動します。"
   ]
  }, 
  {
   "cell_type": "code", 
   "execution_count": null, 
   "metadata": {
    "hidden": true, 
    "scrolled": true
   }, 
   "outputs": [], 
   "source": [
    "ug = vcp.create_ugroup(ugroup_name)\n", 
    "ug.create_unit('broker', spec_b)\n", 
    "ug.create_unit('connector', spec_c)"
   ]
  }, 
  {
   "cell_type": "markdown", 
   "metadata": {
    "hidden": true
   }, 
   "source": [
    "VCノードの状態を確認してみます。"
   ]
  }, 
  {
   "cell_type": "code", 
   "execution_count": null, 
   "metadata": {
    "hidden": true
   }, 
   "outputs": [], 
   "source": [
    "ug.df_nodes()"
   ]
  }, 
  {
   "cell_type": "markdown", 
   "metadata": {
    "heading_collapsed": true
   }, 
   "source": [
    "# Ansibleの設定\n", 
    "\n", 
    "VCノードをAnsibleのインベントリに登録します。"
   ]
  }, 
  {
   "cell_type": "code", 
   "execution_count": null, 
   "metadata": {
    "hidden": true, 
    "scrolled": true
   }, 
   "outputs": [], 
   "source": [
    "inventory = Path('./hosts')\n", 
    "if inventory.exists():\n", 
    "    inventory.rename(inventory.with_suffix('.orig'))\n", 
    "\n", 
    "with inventory.open(mode='w') as f:\n", 
    "    for unit in ug.find_units():\n", 
    "        f.write(f'[{unit.name}]\\n')\n", 
    "        for idx, x in enumerate(unit.find_ip_addresses()):\n", 
    "            f.write(f'{unit.name}-{idx} ansible_host={x}\\n')\n", 
    "        f.write(f'''\n", 
    "[{unit.name}:vars]\n", 
    "ansible_user=root\n", 
    "ansible_ssh_private_key_file={ssh_privatekey_path}\n", 
    "\n", 
    "''')\n", 
    "    f.write(f'[{ugroup_name}:children]\\n')\n", 
    "    for unit in ug.find_units():\n", 
    "        f.write(f'{unit.name}\\n')\n", 
    "    \n", 
    "!cat {inventory}\n", 
    "if inventory.with_suffix('.orig').exists():\n", 
    "    try:\n", 
    "        !diff -u {inventory.with_suffix('.orig')} {inventory}\n", 
    "    except:\n", 
    "        pass"
   ]
  }, 
  {
   "cell_type": "markdown", 
   "metadata": {
    "hidden": true
   }, 
   "source": [
    "`~/.ssh/known_hosts`を更新します。"
   ]
  }, 
  {
   "cell_type": "code", 
   "execution_count": null, 
   "metadata": {
    "hidden": true, 
    "scrolled": true
   }, 
   "outputs": [], 
   "source": [
    "for addr in ug.find_ip_addresses():\n", 
    "    !ssh-keygen -R {addr}\n", 
    "    !ssh-keyscan -H {addr} >> ~/.ssh/known_hosts"
   ]
  }, 
  {
   "cell_type": "markdown", 
   "metadata": {
    "hidden": true
   }, 
   "source": [
    "インベントリのパスを `ansible.cfg` に設定します。"
   ]
  }, 
  {
   "cell_type": "code", 
   "execution_count": null, 
   "metadata": {
    "hidden": true
   }, 
   "outputs": [], 
   "source": [
    "ansible_cfg = Path('./ansible.cfg')\n", 
    "if ansible_cfg.exists():\n", 
    "    ansible_cfg.rename(ansible_cfg.with_suffix('.orig'))\n", 
    "\n", 
    "with ansible_cfg.open(mode='w') as f:\n", 
    "    f.write(f'''\n", 
    "[defaults]\n", 
    "inventory = {inventory.absolute()}\n", 
    "''')\n", 
    "    \n", 
    "!cat {ansible_cfg}\n", 
    "if ansible_cfg.with_suffix('.orig').exists():\n", 
    "    try:\n", 
    "        !diff -u {ansible_cfg.with_suffix('.orig')} {ansible_cfg}\n", 
    "    except:\n", 
    "        pass"
   ]
  }, 
  {
   "cell_type": "markdown", 
   "metadata": {
    "hidden": true
   }, 
   "source": [
    "疎通確認を行います。"
   ]
  }, 
  {
   "cell_type": "code", 
   "execution_count": null, 
   "metadata": {
    "hidden": true
   }, 
   "outputs": [], 
   "source": [
    "!ansible {ugroup_name} -m ping"
   ]
  }, 
  {
   "cell_type": "markdown", 
   "metadata": {
    "heading_collapsed": true
   }, 
   "source": [
    "# /etc/hosts の更新\n", 
    "\n", 
    "Apache Kafkaはホスト名の解決が必要となるので、`/etc/hosts` に起動したVCノードのホスト名を登録します。"
   ]
  }, 
  {
   "cell_type": "code", 
   "execution_count": null, 
   "metadata": {
    "hidden": true, 
    "scrolled": true
   }, 
   "outputs": [], 
   "source": [
    "hosts_dict = dict([\n", 
    "    (node.cloud_instance_address, f\"{unit.name}-{idx}\")\n", 
    "    for unit in ug.find_units()\n", 
    "    for idx, node in enumerate(unit.find_nodes())\n", 
    "])\n", 
    "etc_hosts = \"\\n\".join([f\"{k} {v}\" for k, v in hosts_dict.items()])\n", 
    "\n", 
    "!ansible {ugroup_name} -m shell -a 'warn=False \\\n", 
    "    mkdir -p /tmp/{ugroup_name}; cp /etc/hosts /tmp/{ugroup_name}/'\n", 
    "!ansible {ugroup_name} -b -m blockinfile -a \\\n", 
    "    'path=/tmp/{ugroup_name}/hosts block=\"{etc_hosts}\"'\n", 
    "!ansible {ugroup_name} -b -a 'warn=False cp /tmp/{ugroup_name}/hosts /etc/hosts'\n", 
    "!ansible {ugroup_name} -b -a 'warn=False rm -rf /tmp/{ugroup_name}'"
   ]
  }, 
  {
   "cell_type": "markdown", 
   "metadata": {
    "hidden": true
   }, 
   "source": [
    "更新後の `/etc/hosts` の内容を確認します。"
   ]
  }, 
  {
   "cell_type": "code", 
   "execution_count": null, 
   "metadata": {
    "hidden": true, 
    "scrolled": true
   }, 
   "outputs": [], 
   "source": [
    "!ansible {ugroup_name} -a 'cat /etc/hosts'"
   ]
  }, 
  {
   "cell_type": "markdown", 
   "metadata": {
    "hidden": true
   }, 
   "source": [
    "Notebook環境の `/etc/hosts` にも同様の内容を追加しておきます。"
   ]
  }, 
  {
   "cell_type": "code", 
   "execution_count": null, 
   "metadata": {
    "hidden": true
   }, 
   "outputs": [], 
   "source": [
    "from tempfile import TemporaryDirectory\n", 
    "from pathlib import Path\n", 
    "\n", 
    "with TemporaryDirectory() as work_dir:\n", 
    "    !cp /etc/hosts {work_dir}\n", 
    "    !ansible localhost -c local -b -m blockinfile -a \\\n", 
    "        'path={work_dir}/hosts block=\"{etc_hosts}\"'\n", 
    "    try:\n", 
    "        !diff -u /etc/hosts {work_dir}/hosts\n", 
    "    except:\n", 
    "        pass\n", 
    "    !sudo cp {work_dir}/hosts /etc/hosts"
   ]
  }, 
  {
   "cell_type": "markdown", 
   "metadata": {
    "heading_collapsed": true
   }, 
   "source": [
    "# ツール類のインストール"
   ]
  }, 
  {
   "cell_type": "markdown", 
   "metadata": {
    "hidden": true
   }, 
   "source": [
    "## 追加パッケージ\n", 
    "\n", 
    "環境構築の際に必要となるパッケージをインストールします。"
   ]
  }, 
  {
   "cell_type": "code", 
   "execution_count": null, 
   "metadata": {
    "hidden": true
   }, 
   "outputs": [], 
   "source": [
    "!ansible {ugroup_name} -b -m yum -a 'name=rsync,openssh-clients update_cache=yes'"
   ]
  }, 
  {
   "cell_type": "markdown", 
   "metadata": {
    "hidden": true
   }, 
   "source": [
    "## docker-compose"
   ]
  }, 
  {
   "cell_type": "code", 
   "execution_count": null, 
   "metadata": {
    "hidden": true
   }, 
   "outputs": [], 
   "source": [
    "!ansible {ugroup_name} -b -m shell -b -a 'warn=False \\\n", 
    "    curl -L \"https://github.com/docker/compose/releases/download/1.23.2/docker-compose-$(uname -s)-$(uname -m)\" \\\n", 
    "    -o /usr/local/bin/docker-compose'\n", 
    "!ansible {ugroup_name} -b -a 'warn=False chmod +x /usr/local/bin/docker-compose'"
   ]
  }
 ], 
 "metadata": {
  "kernelspec": {
   "display_name": "Python 3", 
   "language": "python", 
   "name": "python3"
  }, 
  "language_info": {
   "codemirror_mode": {
    "name": "ipython", 
    "version": 3
   }, 
   "file_extension": ".py", 
   "mimetype": "text/x-python", 
   "name": "python", 
   "nbconvert_exporter": "python", 
   "pygments_lexer": "ipython3", 
   "version": "3.6.6"
  }, 
  "toc": {
   "base_numbering": 1, 
   "nav_menu": {}, 
   "number_sections": true, 
   "sideBar": true, 
   "skip_h1_title": false, 
   "title_cell": "Table of Contents", 
   "title_sidebar": "Contents", 
   "toc_cell": false, 
   "toc_position": {
    "height": "calc(100% - 180px)", 
    "left": "10px", 
    "top": "150px", 
    "width": "277.8px"
   }, 
   "toc_section_display": true, 
   "toc_window_display": true
  }
 }, 
 "nbformat": 4, 
 "nbformat_minor": 2
}
