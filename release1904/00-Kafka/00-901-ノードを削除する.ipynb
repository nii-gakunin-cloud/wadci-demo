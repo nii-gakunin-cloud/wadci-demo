{
 "cells": [
  {
   "cell_type": "markdown", 
   "metadata": {}, 
   "source": [
    "# Apache Kafkaの環境を構成しているノードを削除する\n", 
    "\n", 
    "Apache Kafka の環境を構成しているノードを削除します。"
   ]
  }, 
  {
   "cell_type": "markdown", 
   "metadata": {}, 
   "source": [
    "# VCノードの削除"
   ]
  }, 
  {
   "cell_type": "markdown", 
   "metadata": {}, 
   "source": [
    "## VCCアクセストークンの入力"
   ]
  }, 
  {
   "cell_type": "markdown", 
   "metadata": {}, 
   "source": [
    "次のセルを実行すると入力枠が表示されるのでVC Controllerのアクセストークンの値を入力してください。"
   ]
  }, 
  {
   "cell_type": "code", 
   "execution_count": null, 
   "metadata": {}, 
   "outputs": [], 
   "source": [
    "from getpass import getpass\n", 
    "vcc_access_token = getpass()"
   ]
  }, 
  {
   "cell_type": "markdown", 
   "metadata": {}, 
   "source": [
    "アクセストークンの値が正しいことを確認します。"
   ]
  }, 
  {
   "cell_type": "code", 
   "execution_count": null, 
   "metadata": {}, 
   "outputs": [], 
   "source": [
    "from common import logsetting\n", 
    "from vcpsdk.vcpsdk import VcpSDK\n", 
    "\n", 
    "vcp = VcpSDK(vcc_access_token)"
   ]
  }, 
  {
   "cell_type": "markdown", 
   "metadata": {
    "heading_collapsed": true
   }, 
   "source": [
    "## VCノードの削除"
   ]
  }, 
  {
   "cell_type": "markdown", 
   "metadata": {
    "hidden": true
   }, 
   "source": [
    "現在の状態を確認します。"
   ]
  }, 
  {
   "cell_type": "code", 
   "execution_count": null, 
   "metadata": {
    "hidden": true
   }, 
   "outputs": [], 
   "source": [
    "vcp.df_ugroups()"
   ]
  }, 
  {
   "cell_type": "code", 
   "execution_count": null, 
   "metadata": {
    "hidden": true
   }, 
   "outputs": [], 
   "source": [
    "ug = vcp.get_ugroup('dp-kafka')\n", 
    "ug.df_nodes()"
   ]
  }, 
  {
   "cell_type": "markdown", 
   "metadata": {
    "hidden": true
   }, 
   "source": [
    "VCノードを削除します。"
   ]
  }, 
  {
   "cell_type": "code", 
   "execution_count": null, 
   "metadata": {
    "hidden": true, 
    "scrolled": true
   }, 
   "outputs": [], 
   "source": [
    "ug.cleanup()"
   ]
  }, 
  {
   "cell_type": "markdown", 
   "metadata": {
    "hidden": true
   }, 
   "source": [
    "削除後の状態を確認します。"
   ]
  }, 
  {
   "cell_type": "code", 
   "execution_count": null, 
   "metadata": {
    "hidden": true
   }, 
   "outputs": [], 
   "source": [
    "vcp.df_ugroups()"
   ]
  }, 
  {
   "cell_type": "markdown", 
   "metadata": {}, 
   "source": [
    "## インベントリの更新"
   ]
  }, 
  {
   "cell_type": "code", 
   "execution_count": null, 
   "metadata": {}, 
   "outputs": [], 
   "source": [
    "!mv ./hosts ./hosts.old"
   ]
  }
 ], 
 "metadata": {
  "kernelspec": {
   "display_name": "Python 3", 
   "language": "python", 
   "name": "python3"
  }, 
  "language_info": {
   "codemirror_mode": {
    "name": "ipython", 
    "version": 3
   }, 
   "file_extension": ".py", 
   "mimetype": "text/x-python", 
   "name": "python", 
   "nbconvert_exporter": "python", 
   "pygments_lexer": "ipython3", 
   "version": "3.6.7"
  }, 
  "toc": {
   "base_numbering": 1, 
   "nav_menu": {}, 
   "number_sections": true, 
   "sideBar": true, 
   "skip_h1_title": false, 
   "title_cell": "Table of Contents", 
   "title_sidebar": "Contents", 
   "toc_cell": false, 
   "toc_position": {}, 
   "toc_section_display": true, 
   "toc_window_display": true
  }
 }, 
 "nbformat": 4, 
 "nbformat_minor": 2
}
