{
 "cells": [
  {
   "cell_type": "markdown", 
   "metadata": {}, 
   "source": [
    "# Apache Kafkaの環境を構築するためのノードを準備する\n", 
    "\n", 
    "Apache Kafka を構築するノードを準備します。"
   ]
  }, 
  {
   "cell_type": "markdown", 
   "metadata": {}, 
   "source": [
    "> このNotebookは、VCPを用いずに既存のノードをApache Kafkaの構築環境として利用することを想定しています。そのため、既に[00-101-Apache Kafkaのセットアップ.ipynb](./00-001-%E3%83%8E%E3%83%BC%E3%83%89%E3%81%AE%E8%B5%B7%E5%8B%95.ipynb)を実行してVCノードのセットアップを行っている場合は、**このNotebookを実行する必要はありません**。"
   ]
  }, 
  {
   "cell_type": "markdown", 
   "metadata": {}, 
   "source": [
    "ここでは、以下のノードをセットアップすることを想定しています。\n", 
    "\n", 
    "* Apache Kafka Broker\n", 
    "  - 1ノード\n", 
    "* Kafka Connector\n", 
    "  - 1ノード\n", 
    "  \n", 
    "また上記の各ノードには、以下の条件を満たすユーザが存在することを前提としています。\n", 
    "\n", 
    "* このNotebook環境から、SSHの公開鍵認証でログインできること\n", 
    "* `sudo` によって管理者権限でコマンドを実行できること"
   ]
  }, 
  {
   "cell_type": "markdown", 
   "metadata": {}, 
   "source": [
    "# パラメータの指定"
   ]
  }, 
  {
   "cell_type": "markdown", 
   "metadata": {}, 
   "source": [
    "## Apache Kafka Broker"
   ]
  }, 
  {
   "cell_type": "markdown", 
   "metadata": {}, 
   "source": [
    "Kafka Brokerを実行するノードのホスト名を指定してください。\n", 
    "\n", 
    "> Kafka環境を構築するノードのホスト名は名前解決できる必要があります。DNSに登録されているホスト名を指定するか、対応する名前を`/etc/hosts`に登録してください。"
   ]
  }, 
  {
   "cell_type": "code", 
   "execution_count": null, 
   "metadata": {}, 
   "outputs": [], 
   "source": [
    "broker_nodes = [\n", 
    "    'broker-0',\n", 
    "]"
   ]
  }, 
  {
   "cell_type": "markdown", 
   "metadata": {}, 
   "source": [
    "ログインする際のユーザ名を指定してください。"
   ]
  }, 
  {
   "cell_type": "code", 
   "execution_count": null, 
   "metadata": {}, 
   "outputs": [], 
   "source": [
    "# (例)\n", 
    "# broker_user = 'centos'   # CentOSの場合\n", 
    "# broker_user = 'ubuntu'   # Ubuntuの場合\n", 
    "\n", 
    "broker_user ="
   ]
  }, 
  {
   "cell_type": "markdown", 
   "metadata": {}, 
   "source": [
    "SSHの秘密鍵ファイルのパスを指定してください。"
   ]
  }, 
  {
   "cell_type": "code", 
   "execution_count": null, 
   "metadata": {}, 
   "outputs": [], 
   "source": [
    "broker_ssh_private_key = '~/.ssh/id_rsa'"
   ]
  }, 
  {
   "cell_type": "markdown", 
   "metadata": {}, 
   "source": [
    "Pythonのパスを指定してください。"
   ]
  }, 
  {
   "cell_type": "code", 
   "execution_count": null, 
   "metadata": {}, 
   "outputs": [], 
   "source": [
    "# (例)\n", 
    "# broker_python_interpreter = '/usr/bin/python'   # CentOS7の場合\n", 
    "# broker_python_interpreter = '/usr/bin/python3'  # Ubuntuの場合\n", 
    "\n", 
    "broker_python_interpreter ="
   ]
  }, 
  {
   "cell_type": "markdown", 
   "metadata": {}, 
   "source": [
    "### Kafkaコネクタ"
   ]
  }, 
  {
   "cell_type": "markdown", 
   "metadata": {}, 
   "source": [
    "Kafkaコネクタを実行するノードのホスト名を指定してください。\n", 
    "\n", 
    "> 開発用の環境などの場合、Brokerと同じホスト名を指定することも可能です。"
   ]
  }, 
  {
   "cell_type": "code", 
   "execution_count": null, 
   "metadata": {}, 
   "outputs": [], 
   "source": [
    "connector_nodes = [\n", 
    "    'connector-0',\n", 
    "]"
   ]
  }, 
  {
   "cell_type": "markdown", 
   "metadata": {}, 
   "source": [
    "ログインする際のユーザ名を指定してください。"
   ]
  }, 
  {
   "cell_type": "code", 
   "execution_count": null, 
   "metadata": {}, 
   "outputs": [], 
   "source": [
    "# (例)\n", 
    "# connector_user = 'centos'   # CentOSの場合\n", 
    "# connector_user = 'ubuntu'   # Ubuntuの場合\n", 
    "\n", 
    "connector_user ="
   ]
  }, 
  {
   "cell_type": "markdown", 
   "metadata": {}, 
   "source": [
    "SSHの秘密鍵ファイルのパスを指定してください。"
   ]
  }, 
  {
   "cell_type": "code", 
   "execution_count": null, 
   "metadata": {}, 
   "outputs": [], 
   "source": [
    "connector_ssh_private_key = '~/.ssh/id_rsa'"
   ]
  }, 
  {
   "cell_type": "markdown", 
   "metadata": {}, 
   "source": [
    "Pythonのパスを指定してください。"
   ]
  }, 
  {
   "cell_type": "code", 
   "execution_count": null, 
   "metadata": {}, 
   "outputs": [], 
   "source": [
    "# (例)\n", 
    "# connector_python_interpreter = '/usr/bin/python'   # CentOS7の場合\n", 
    "# connector_python_interpreter = '/usr/bin/python3'  # Ubuntuの場合\n", 
    "\n", 
    "connector_python_interpreter ="
   ]
  }, 
  {
   "cell_type": "markdown", 
   "metadata": {
    "heading_collapsed": true
   }, 
   "source": [
    "# Ansibleの設定\n", 
    "\n", 
    "操作対象のノードをAnsibleのインベントリに登録します。"
   ]
  }, 
  {
   "cell_type": "code", 
   "execution_count": null, 
   "metadata": {
    "hidden": true, 
    "scrolled": true
   }, 
   "outputs": [], 
   "source": [
    "from pathlib import Path\n", 
    "\n", 
    "inventory = Path('./hosts')\n", 
    "if inventory.exists():\n", 
    "    inventory.rename(inventory.with_suffix('.orig'))\n", 
    "\n", 
    "with inventory.open(mode='w') as f:\n", 
    "    for label in ['broker', 'connector']:\n", 
    "        f.write(f'[{label}]\\n')\n", 
    "        for node in eval(f'{label}_nodes'):\n", 
    "            f.write(node)\n", 
    "            f.write('\\n')\n", 
    "        f.write(f'''\n", 
    "[{label}:vars]\n", 
    "ansible_user={eval(f\"{label}_user\")}\n", 
    "ansible_ssh_private_key_file={Path(eval(f\"{label}_ssh_private_key\")).expanduser()}\n", 
    "ansible_python_interpreter={eval(f\"{label}_python_interpreter\")}\n", 
    "\n", 
    "''')\n", 
    "    \n", 
    "!cat {inventory}\n", 
    "if inventory.with_suffix('.orig').exists():\n", 
    "    try:\n", 
    "        !diff -u {inventory.with_suffix('.orig')} {inventory}\n", 
    "    except:\n", 
    "        pass"
   ]
  }, 
  {
   "cell_type": "markdown", 
   "metadata": {
    "hidden": true
   }, 
   "source": [
    "`~/.ssh/known_hosts`を更新します。"
   ]
  }, 
  {
   "cell_type": "code", 
   "execution_count": null, 
   "metadata": {
    "hidden": true
   }, 
   "outputs": [], 
   "source": [
    "for label in ['broker', 'connector']:\n", 
    "    for node in eval(f'{label}_nodes'):\n", 
    "        !ssh-keygen -R {node}\n", 
    "        !ssh-keyscan -H {node} >> ~/.ssh/known_hosts"
   ]
  }, 
  {
   "cell_type": "markdown", 
   "metadata": {
    "hidden": true
   }, 
   "source": [
    "インベントリのパスを `ansible.cfg` に設定します。"
   ]
  }, 
  {
   "cell_type": "code", 
   "execution_count": null, 
   "metadata": {
    "hidden": true
   }, 
   "outputs": [], 
   "source": [
    "ansible_cfg = Path('./ansible.cfg')\n", 
    "if ansible_cfg.exists():\n", 
    "    ansible_cfg.rename(ansible_cfg.with_suffix('.orig'))\n", 
    "\n", 
    "with ansible_cfg.open(mode='w') as f:\n", 
    "    f.write(f'''\n", 
    "[defaults]\n", 
    "inventory = {inventory.absolute()}\n", 
    "''')\n", 
    "    \n", 
    "!cat {ansible_cfg}\n", 
    "if ansible_cfg.with_suffix('.orig').exists():\n", 
    "    try:\n", 
    "        !diff -u {ansible_cfg.with_suffix('.orig')} {ansible_cfg}\n", 
    "    except:\n", 
    "        pass"
   ]
  }, 
  {
   "cell_type": "markdown", 
   "metadata": {
    "hidden": true
   }, 
   "source": [
    "疎通確認を行います。"
   ]
  }, 
  {
   "cell_type": "code", 
   "execution_count": null, 
   "metadata": {
    "hidden": true
   }, 
   "outputs": [], 
   "source": [
    "!ansible all -m ping"
   ]
  }, 
  {
   "cell_type": "markdown", 
   "metadata": {}, 
   "source": [
    "# Dockerのインストール\n", 
    "\n", 
    "このディレクトリにある一連のNotebookでは、Apache Kafkaの環境を構築するのにDockerコンテナを利用します。ここでは Dockerをインストールします。"
   ]
  }, 
  {
   "cell_type": "markdown", 
   "metadata": {}, 
   "source": [
    "> 構築対象のノードに Docker環境が既に構築されている場合は、この章は実行せずに次の章に進んでください。"
   ]
  }, 
  {
   "cell_type": "markdown", 
   "metadata": {}, 
   "source": [
    "Dockerのインストール手順はディストリビューション毎に異なります。ここでは CentOS と Ubuntu の場合のセットアップ手順を示します。他のディストリビューションを利用している場合は、[Install Docker CE from binaries](https://docs.docker.com/install/linux/docker-ce/binaries/)などを参考にセットアップを行ってください。"
   ]
  }, 
  {
   "cell_type": "markdown", 
   "metadata": {
    "heading_collapsed": true
   }, 
   "source": [
    "## CentOSの場合\n", 
    "\n", 
    "[Get Docker CE for CentOS](https://docs.docker.com/install/linux/docker-ce/centos/)の手順に従いセットアップを行います。"
   ]
  }, 
  {
   "cell_type": "markdown", 
   "metadata": {
    "hidden": true
   }, 
   "source": [
    "yum のレポジトリ設定を変更して Dockerのレポジトリを追加します。まず、レポジトリを操作するのに必要となるパッケージをインストールします。"
   ]
  }, 
  {
   "cell_type": "code", 
   "execution_count": null, 
   "metadata": {
    "hidden": true, 
    "scrolled": true
   }, 
   "outputs": [], 
   "source": [
    "!ansible all -b -m yum -a \\\n", 
    "    'name=yum-utils,device-mapper-persistent-data,lvm2 \\\n", 
    "    update_cache=yes'"
   ]
  }, 
  {
   "cell_type": "markdown", 
   "metadata": {
    "hidden": true
   }, 
   "source": [
    "レポジトリを追加します。"
   ]
  }, 
  {
   "cell_type": "code", 
   "execution_count": null, 
   "metadata": {
    "hidden": true
   }, 
   "outputs": [], 
   "source": [
    "!ansible all -b -a 'yum-config-manager --add-repo https://download.docker.com/linux/centos/docker-ce.repo'"
   ]
  }, 
  {
   "cell_type": "markdown", 
   "metadata": {
    "hidden": true
   }, 
   "source": [
    "Dockerをインストールします。"
   ]
  }, 
  {
   "cell_type": "code", 
   "execution_count": null, 
   "metadata": {
    "hidden": true, 
    "scrolled": true
   }, 
   "outputs": [], 
   "source": [
    "!ansible all -b -m yum -a \\\n", 
    "    'name=docker-ce,docker-ce-cli,containerd.io \\\n", 
    "    update_cache=yes'"
   ]
  }, 
  {
   "cell_type": "markdown", 
   "metadata": {
    "hidden": true
   }, 
   "source": [
    "Dockerのサービスを起動します。"
   ]
  }, 
  {
   "cell_type": "code", 
   "execution_count": null, 
   "metadata": {
    "hidden": true
   }, 
   "outputs": [], 
   "source": [
    "!ansible all -b -m systemd -a 'name=docker enabled=yes state=started daemon-reload=yes'"
   ]
  }, 
  {
   "cell_type": "markdown", 
   "metadata": {
    "hidden": true
   }, 
   "source": [
    "Dockerがインストールされたことを確認するために `docker info` を実行してみます。"
   ]
  }, 
  {
   "cell_type": "code", 
   "execution_count": null, 
   "metadata": {
    "hidden": true, 
    "scrolled": true
   }, 
   "outputs": [], 
   "source": [
    "!ansible all -b -a 'docker info'"
   ]
  }, 
  {
   "cell_type": "markdown", 
   "metadata": {
    "hidden": true
   }, 
   "source": [
    "管理者権限なしで docker コマンドが実行できるようにするために、ユーザを`docker`グループに所属させます。"
   ]
  }, 
  {
   "cell_type": "code", 
   "execution_count": null, 
   "metadata": {
    "hidden": true, 
    "scrolled": false
   }, 
   "outputs": [], 
   "source": [
    "for label in ['broker', 'connector']:\n", 
    "    user = eval(f\"{label}_user\")\n", 
    "    !ansible {label} -b -m user -a 'name={user} groups=docker append=yes'"
   ]
  }, 
  {
   "cell_type": "markdown", 
   "metadata": {
    "heading_collapsed": true
   }, 
   "source": [
    "## Ubuntuの場合\n", 
    "\n", 
    "[Get Docker CE for Ubuntu](https://docs.docker.com/install/linux/docker-ce/ubuntu/)の手順に従いセットアップを行います。"
   ]
  }, 
  {
   "cell_type": "markdown", 
   "metadata": {
    "hidden": true
   }, 
   "source": [
    "aptのレポジトリ設定を変更して Dockerのレポジトリを追加します。まず、レポジトリを操作するのに必要となるパッケージをインストールします。"
   ]
  }, 
  {
   "cell_type": "code", 
   "execution_count": null, 
   "metadata": {
    "hidden": true, 
    "scrolled": true
   }, 
   "outputs": [], 
   "source": [
    "!ansible all -b -m apt -a \\\n", 
    "    'name=apt-transport-https,ca-certificates,curl,gnupg-agent,software-properties-common \\\n", 
    "    update_cache=yes'"
   ]
  }, 
  {
   "cell_type": "markdown", 
   "metadata": {
    "hidden": true
   }, 
   "source": [
    "GPGキーを追加します。"
   ]
  }, 
  {
   "cell_type": "code", 
   "execution_count": null, 
   "metadata": {
    "hidden": true
   }, 
   "outputs": [], 
   "source": [
    "!ansible all -b -m shell -a 'warn=False \\\n", 
    "    curl -fsSL https://download.docker.com/linux/ubuntu/gpg | apt-key add -'"
   ]
  }, 
  {
   "cell_type": "markdown", 
   "metadata": {
    "hidden": true
   }, 
   "source": [
    "レポジトリを追加します。"
   ]
  }, 
  {
   "cell_type": "code", 
   "execution_count": null, 
   "metadata": {
    "hidden": true
   }, 
   "outputs": [], 
   "source": [
    "!ansible all -b -m shell -a 'add-apt-repository \\\n", 
    "    \"deb [arch=amd64] https://download.docker.com/linux/ubuntu \\\n", 
    "    $(lsb_release -cs) \\\n", 
    "    stable\"'"
   ]
  }, 
  {
   "cell_type": "markdown", 
   "metadata": {
    "hidden": true
   }, 
   "source": [
    "Dockerをインストールします。"
   ]
  }, 
  {
   "cell_type": "code", 
   "execution_count": null, 
   "metadata": {
    "hidden": true
   }, 
   "outputs": [], 
   "source": [
    "!ansible all -b -m apt -a \\\n", 
    "    'name=docker-ce,docker-ce-cli,containerd.io \\\n", 
    "    update_cache=yes'"
   ]
  }, 
  {
   "cell_type": "markdown", 
   "metadata": {
    "hidden": true
   }, 
   "source": [
    "Dockerがインストールされたことを確認するために `docker info` を実行してみます。"
   ]
  }, 
  {
   "cell_type": "code", 
   "execution_count": null, 
   "metadata": {
    "hidden": true, 
    "scrolled": true
   }, 
   "outputs": [], 
   "source": [
    "!ansible all -b -a 'docker info'"
   ]
  }, 
  {
   "cell_type": "markdown", 
   "metadata": {
    "hidden": true
   }, 
   "source": [
    "管理者権限なしで docker コマンドが実行できるようにするために、ユーザを`docker`グループに所属させます。"
   ]
  }, 
  {
   "cell_type": "code", 
   "execution_count": null, 
   "metadata": {
    "hidden": true, 
    "scrolled": true
   }, 
   "outputs": [], 
   "source": [
    "for label in ['broker', 'connector']:\n", 
    "    user = eval(f\"{label}_user\")\n", 
    "    !ansible {label} -b -m user -a 'name={user} groups=docker append=yes'"
   ]
  }, 
  {
   "cell_type": "markdown", 
   "metadata": {
    "heading_collapsed": true
   }, 
   "source": [
    "# ツール類のインストール"
   ]
  }, 
  {
   "cell_type": "markdown", 
   "metadata": {
    "hidden": true
   }, 
   "source": [
    "## 追加パッケージ\n", 
    "\n", 
    "環境構築の際に必要となるパッケージをインストールします。"
   ]
  }, 
  {
   "cell_type": "code", 
   "execution_count": null, 
   "metadata": {
    "hidden": true
   }, 
   "outputs": [], 
   "source": [
    "!ansible all -b -m package -a 'name=rsync'"
   ]
  }, 
  {
   "cell_type": "markdown", 
   "metadata": {
    "hidden": true
   }, 
   "source": [
    "## docker-compose"
   ]
  }, 
  {
   "cell_type": "code", 
   "execution_count": null, 
   "metadata": {
    "hidden": true
   }, 
   "outputs": [], 
   "source": [
    "!ansible all -b -m shell -b -a 'warn=False \\\n", 
    "    curl -L \"https://github.com/docker/compose/releases/download/1.24.0/docker-compose-$(uname -s)-$(uname -m)\" \\\n", 
    "    -o /usr/bin/docker-compose'\n", 
    "!ansible all -b -a 'warn=False chmod +x /usr/bin/docker-compose'"
   ]
  }
 ], 
 "metadata": {
  "kernelspec": {
   "display_name": "Python 3", 
   "language": "python", 
   "name": "python3"
  }, 
  "language_info": {
   "codemirror_mode": {
    "name": "ipython", 
    "version": 3
   }, 
   "file_extension": ".py", 
   "mimetype": "text/x-python", 
   "name": "python", 
   "nbconvert_exporter": "python", 
   "pygments_lexer": "ipython3", 
   "version": "3.6.7"
  }, 
  "toc": {
   "base_numbering": 1, 
   "nav_menu": {}, 
   "number_sections": true, 
   "sideBar": true, 
   "skip_h1_title": false, 
   "title_cell": "Table of Contents", 
   "title_sidebar": "Contents", 
   "toc_cell": false, 
   "toc_position": {
    "height": "calc(100% - 180px)", 
    "left": "10px", 
    "top": "150px", 
    "width": "277.8px"
   }, 
   "toc_section_display": true, 
   "toc_window_display": true
  }
 }, 
 "nbformat": 4, 
 "nbformat_minor": 2
}
