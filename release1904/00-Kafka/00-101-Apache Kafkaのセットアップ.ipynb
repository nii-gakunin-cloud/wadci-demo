{
 "cells": [
  {
   "cell_type": "markdown", 
   "metadata": {}, 
   "source": [
    "# Apache Kafkaのセットアップ\n", 
    "\n", 
    "Apache Kafka の broker をセットアップします。"
   ]
  }, 
  {
   "cell_type": "markdown", 
   "metadata": {
    "heading_collapsed": true
   }, 
   "source": [
    "# 事前チェック\n", 
    "\n", 
    "Apache Kafkaの構築を行うノードは「00-001-ノードの起動.ipynb」の Notebook で起動したVCノードである、または「00-002-既存ノードの登録」で準備したノードであることを想定しています。\n", 
    "\n", 
    "それ以外のノードに対して環境構築を行う場合は、以下の条件を満たすように準備を行ってください。\n", 
    "\n", 
    "1. 対象となるノードを Ansible で操作できる\n", 
    "1. Docker のセットアップが済んでいる\n", 
    "1. 構築に利用するツールがインストールされていること\n", 
    "  - rsync\n", 
    "  - docker-compose\n", 
    "1. ホスト名が名前解決できること"
   ]
  }, 
  {
   "cell_type": "markdown", 
   "metadata": {
    "hidden": true
   }, 
   "source": [
    "1., 2., 3. については、以下でチェックします。"
   ]
  }, 
  {
   "cell_type": "markdown", 
   "metadata": {
    "hidden": true
   }, 
   "source": [
    "## Ansible"
   ]
  }, 
  {
   "cell_type": "code", 
   "execution_count": null, 
   "metadata": {
    "hidden": true
   }, 
   "outputs": [], 
   "source": [
    "target = 'broker'"
   ]
  }, 
  {
   "cell_type": "markdown", 
   "metadata": {
    "hidden": true
   }, 
   "source": [
    "Ansibleで操作できることを確認します。"
   ]
  }, 
  {
   "cell_type": "code", 
   "execution_count": null, 
   "metadata": {
    "hidden": true
   }, 
   "outputs": [], 
   "source": [
    "!ansible {target} -m ping"
   ]
  }, 
  {
   "cell_type": "code", 
   "execution_count": null, 
   "metadata": {
    "hidden": true
   }, 
   "outputs": [], 
   "source": [
    "!ansible {target} -b -a 'whoami'"
   ]
  }, 
  {
   "cell_type": "markdown", 
   "metadata": {
    "hidden": true
   }, 
   "source": [
    "## Docker\n", 
    "\n", 
    "Dockerが利用できることを確認します。"
   ]
  }, 
  {
   "cell_type": "code", 
   "execution_count": null, 
   "metadata": {
    "hidden": true
   }, 
   "outputs": [], 
   "source": [
    "!ansible {target} -a 'docker info'"
   ]
  }, 
  {
   "cell_type": "markdown", 
   "metadata": {
    "hidden": true
   }, 
   "source": [
    "## ツールなど\n", 
    "\n", 
    "必要なコマンドがインストールされていることを確認します。"
   ]
  }, 
  {
   "cell_type": "code", 
   "execution_count": null, 
   "metadata": {
    "hidden": true
   }, 
   "outputs": [], 
   "source": [
    "!ansible {target} -a 'which rsync'"
   ]
  }, 
  {
   "cell_type": "code", 
   "execution_count": null, 
   "metadata": {
    "hidden": true
   }, 
   "outputs": [], 
   "source": [
    "!ansible {target} -a 'docker-compose version'"
   ]
  }, 
  {
   "cell_type": "markdown", 
   "metadata": {}, 
   "source": [
    "# パラメータの指定"
   ]
  }, 
  {
   "cell_type": "markdown", 
   "metadata": {}, 
   "source": [
    "kafka broker のホスト名のリストを次のセルで設定してください。"
   ]
  }, 
  {
   "cell_type": "code", 
   "execution_count": null, 
   "metadata": {}, 
   "outputs": [], 
   "source": [
    "hostnames = [\n", 
    "    'broker-0',\n", 
    "    'broker-1',\n", 
    "    'broker-2',\n", 
    "]"
   ]
  }, 
  {
   "cell_type": "markdown", 
   "metadata": {}, 
   "source": [
    "kafka broker をAWS VPCの外側のネットワークからアクセスする場合は、次のセルで外部に公開するホスト名を次のセルで設定してください。"
   ]
  }, 
  {
   "cell_type": "code", 
   "execution_count": null, 
   "metadata": {}, 
   "outputs": [], 
   "source": [
    "# ext_hostnames = [\n", 
    "#    'broker-0.example.org',\n", 
    "#    'broker-1.example.org',\n", 
    "#    'broker-2.example.org',\n", 
    "#]"
   ]
  }, 
  {
   "cell_type": "markdown", 
   "metadata": {}, 
   "source": [
    "kafka broker のポート番号のリストを次のセルで設定してください。"
   ]
  }, 
  {
   "cell_type": "code", 
   "execution_count": null, 
   "metadata": {}, 
   "outputs": [], 
   "source": [
    "kafka_port = [9092 for x in range(len(hostnames))]"
   ]
  }, 
  {
   "cell_type": "markdown", 
   "metadata": {}, 
   "source": [
    "kafka broker をAWS VPCの外側のネットワークからアクセスする場合は、次のセルで外部に公開するポート番号を次のセルで設定してください。\n", 
    "\n", 
    "> 外部からKafka broker にアクセスできるようにするためにはAWSのセキュリティグループ設定やNATインスタンスの設定を変更する必要があります。"
   ]
  }, 
  {
   "cell_type": "code", 
   "execution_count": null, 
   "metadata": {}, 
   "outputs": [], 
   "source": [
    "# ext_kafka_port = [\n", 
    "#    19092,\n", 
    "#    19093,\n", 
    "#    19094,\n", 
    "#]"
   ]
  }, 
  {
   "cell_type": "markdown", 
   "metadata": {
    "heading_collapsed": true
   }, 
   "source": [
    "# ZooKeeperの実行\n", 
    "\n", 
    "ZooKeeper をコンテナで実行します。"
   ]
  }, 
  {
   "cell_type": "markdown", 
   "metadata": {
    "hidden": true
   }, 
   "source": [
    "各VCノードで ZooKeeperのコンテナを実行するための `docker-compose.yml` を作成します。\n", 
    "\n", 
    "* コンテナイメージ\n", 
    "  - [zookeeper](https://hub.docker.com/_/zookeeper)\n", 
    "* ZooKeeper バージョン\n", 
    "  - 3.4\n", 
    "* ネットワーク\n", 
    "  - ホストネットワーク"
   ]
  }, 
  {
   "cell_type": "code", 
   "execution_count": null, 
   "metadata": {
    "hidden": true, 
    "scrolled": true
   }, 
   "outputs": [], 
   "source": [
    "from tempfile import TemporaryDirectory\n", 
    "from pathlib import Path\n", 
    "import json\n", 
    "\n", 
    "with TemporaryDirectory() as work_dir:\n", 
    "    docker_compose_yml = Path(work_dir) / 'docker-compose.yml'\n", 
    "    with docker_compose_yml.open(mode='w') as f:\n", 
    "        f.write('''version: '2.4'\n", 
    "services:\n", 
    "  zoo{{my_id}}:\n", 
    "    image: zookeeper:3.4\n", 
    "    environment:\n", 
    "      ZOO_MY_ID: {{my_id}}\n", 
    "      ZOO_SERVERS:{% for sv in hostnames %} server.{{loop.index}}={{sv}}:2888:3888{% endfor %}\n", 
    "\n", 
    "    network_mode: 'host'\n", 
    "    init: true\n", 
    "    restart: always\n", 
    "    volumes:\n", 
    "      - \"./data:/data\"\n", 
    "      - \"./datalog:/datalog\"\n", 
    "''')\n", 
    "    !ansible {target} -m file -a 'path=zk state=directory'\n", 
    "    for x in range(len(hostnames)):\n", 
    "        params = {\n", 
    "            'my_id': x + 1,\n", 
    "            'hostnames': hostnames,\n", 
    "        }\n", 
    "        params_json = Path(work_dir) / 'params.json'\n", 
    "        with params_json.open(mode='w') as f:\n", 
    "            json.dump(params, f)\n", 
    "        !ansible {hostnames[x]} -m template -e @{params_json} \\\n", 
    "            -a 'src={docker_compose_yml} dest=zk/'"
   ]
  }, 
  {
   "cell_type": "markdown", 
   "metadata": {
    "hidden": true
   }, 
   "source": [
    "コンテナを実行します。"
   ]
  }, 
  {
   "cell_type": "code", 
   "execution_count": null, 
   "metadata": {
    "hidden": true
   }, 
   "outputs": [], 
   "source": [
    "!ansible {target} -a 'chdir=zk docker-compose up -d'"
   ]
  }, 
  {
   "cell_type": "markdown", 
   "metadata": {
    "hidden": true
   }, 
   "source": [
    "コンテナの状態を確認します。"
   ]
  }, 
  {
   "cell_type": "code", 
   "execution_count": null, 
   "metadata": {
    "hidden": true
   }, 
   "outputs": [], 
   "source": [
    "!ansible {target} -a 'chdir=zk docker-compose ps'"
   ]
  }, 
  {
   "cell_type": "markdown", 
   "metadata": {
    "heading_collapsed": true
   }, 
   "source": [
    "# Apache Kafka の実行\n", 
    "\n", 
    "Apache Kafka をコンテナで実行します。"
   ]
  }, 
  {
   "cell_type": "markdown", 
   "metadata": {
    "hidden": true
   }, 
   "source": [
    "各VCノードで Apache Kafka のコンテナを実行するための `docker-compose.yml` を作成します。\n", 
    "\n", 
    "* コンテナイメージ\n", 
    "  - [wurstmeister/kafka](https://hub.docker.com/r/wurstmeister/kafka)\n", 
    "* Apache Kafka バージョン\n", 
    "  - 2.2.1\n", 
    "  - Scala: 2.12\n", 
    "* ネットワーク\n", 
    "  - ホストネットワーク\n", 
    "  \n", 
    "* brokerリスナ\n", 
    "  - 外部用(NATインスタンス経由)"
   ]
  }, 
  {
   "cell_type": "code", 
   "execution_count": null, 
   "metadata": {
    "hidden": true, 
    "scrolled": true
   }, 
   "outputs": [], 
   "source": [
    "with TemporaryDirectory() as work_dir:\n", 
    "    docker_compose_yml = Path(work_dir) / 'docker-compose.yml'\n", 
    "    with docker_compose_yml.open(mode='w') as f:\n", 
    "        f.write('''version: '2.4'\n", 
    "services:\n", 
    "  broker{{broker_id}}:\n", 
    "    image: wurstmeister/kafka:2.12-2.2.1\n", 
    "    environment:\n", 
    "      KAFKA_BROKER_ID: \"{{broker_id}}\"\n", 
    "      KAFKA_ZOOKEEPER_CONNECT: {% for sv in hostnames %}{%if not loop.first %},{% endif %}{{sv}}:2181{% endfor %}\n", 
    "\n", 
    "{% if ext_hostnames is defined %}\n", 
    "      KAFKA_ADVERTISED_LISTENERS: INSIDE://{{hostnames[broker_id]}}:{{kafka_port[broker_id]}},OUTSIDE://{{ext_hostnames[broker_id]}}:{{ext_kafka_port[broker_id]}}\n", 
    "      KAFKA_LISTENERS: INSIDE://:{{kafka_port[broker_id]}},OUTSIDE://:{{ext_kafka_port[broker_id]}}\n", 
    "      KAFKA_LISTENER_SECURITY_PROTOCOL_MAP: INSIDE:PLAINTEXT,OUTSIDE:PLAINTEXT\n", 
    "      KAFKA_INTER_BROKER_LISTENER_NAME: INSIDE\n", 
    "{% else %}\n", 
    "      KAFKA_ADVERTISED_LISTENERS: INSIDE://{{hostnames[broker_id]}}:{{kafka_port[broker_id]}}\n", 
    "      KAFKA_LISTENERS: INSIDE://:{{kafka_port[broker_id]}}\n", 
    "      KAFKA_LISTENER_SECURITY_PROTOCOL_MAP: INSIDE:PLAINTEXT\n", 
    "      KAFKA_INTER_BROKER_LISTENER_NAME: INSIDE\n", 
    "{% endif %}\n", 
    "    network_mode: 'host'\n", 
    "    init: true\n", 
    "    restart: always\n", 
    "    volumes:\n", 
    "      - \"./kafka:/kafka\"\n", 
    "''')\n", 
    "    !ansible {target} -m file -a 'path=kafka state=directory'\n", 
    "    for x in range(len(hostnames)):\n", 
    "        params = {\n", 
    "            'broker_id': x,\n", 
    "            'hostnames': hostnames,\n", 
    "            'kafka_port': kafka_port,\n", 
    "        }\n", 
    "        if 'ext_hostnames' in globals():\n", 
    "            params['ext_hostnames'] = ext_hostnames\n", 
    "        if 'ext_kafka_port' in globals():\n", 
    "            params['ext_kafka_port'] = ext_kafka_port\n", 
    "        params_json = Path(work_dir) / 'params.json'\n", 
    "        with params_json.open(mode='w') as f:\n", 
    "            json.dump(params, f)\n", 
    "        !ansible {hostnames[x]} -m template -e @{params_json} \\\n", 
    "            -a 'src={docker_compose_yml} dest=kafka/'"
   ]
  }, 
  {
   "cell_type": "markdown", 
   "metadata": {
    "hidden": true
   }, 
   "source": [
    "コンテナを実行します。"
   ]
  }, 
  {
   "cell_type": "code", 
   "execution_count": null, 
   "metadata": {
    "hidden": true
   }, 
   "outputs": [], 
   "source": [
    "!ansible {target} -a 'chdir=kafka docker-compose up -d'"
   ]
  }, 
  {
   "cell_type": "markdown", 
   "metadata": {
    "hidden": true
   }, 
   "source": [
    "コンテナの状態を確認します。"
   ]
  }, 
  {
   "cell_type": "code", 
   "execution_count": null, 
   "metadata": {
    "hidden": true
   }, 
   "outputs": [], 
   "source": [
    "!ansible {target} -a 'chdir=kafka docker-compose ps'"
   ]
  }
 ], 
 "metadata": {
  "kernelspec": {
   "display_name": "Python 3", 
   "language": "python", 
   "name": "python3"
  }, 
  "language_info": {
   "codemirror_mode": {
    "name": "ipython", 
    "version": 3
   }, 
   "file_extension": ".py", 
   "mimetype": "text/x-python", 
   "name": "python", 
   "nbconvert_exporter": "python", 
   "pygments_lexer": "ipython3", 
   "version": "3.6.7"
  }, 
  "toc": {
   "base_numbering": 1, 
   "nav_menu": {}, 
   "number_sections": true, 
   "sideBar": true, 
   "skip_h1_title": false, 
   "title_cell": "Table of Contents", 
   "title_sidebar": "Contents", 
   "toc_cell": false, 
   "toc_position": {
    "height": "757px", 
    "left": "27px", 
    "top": "111.133px", 
    "width": "277.8px"
   }, 
   "toc_section_display": true, 
   "toc_window_display": true
  }
 }, 
 "nbformat": 4, 
 "nbformat_minor": 2
}
