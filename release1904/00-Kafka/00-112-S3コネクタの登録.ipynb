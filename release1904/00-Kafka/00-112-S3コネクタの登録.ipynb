{
 "cells": [
  {
   "cell_type": "markdown", 
   "metadata": {}, 
   "source": [
    "# S3コネクタの登録\n", 
    "\n", 
    "[Kafka Connect S3](https://www.confluent.io/connector/kafka-connect-s3/)を Kafka Connectに登録します。"
   ]
  }, 
  {
   "cell_type": "markdown", 
   "metadata": {}, 
   "source": [
    "# 事前チェック\n", 
    "\n", 
    "「00-111-Kafka Connectのセットアップ.ipynb」でKafka Connectの構築を行ったことを前提としています。\n", 
    "\n", 
    "1. 対象となるノードを Ansible で操作できること\n", 
    "1. Kafka Connect を ポート番号 8083 で実行していること"
   ]
  }, 
  {
   "cell_type": "code", 
   "execution_count": null, 
   "metadata": {}, 
   "outputs": [], 
   "source": [
    "target = 'connector'"
   ]
  }, 
  {
   "cell_type": "code", 
   "execution_count": null, 
   "metadata": {}, 
   "outputs": [], 
   "source": [
    "!ansible {target} -m ping"
   ]
  }, 
  {
   "cell_type": "code", 
   "execution_count": null, 
   "metadata": {}, 
   "outputs": [], 
   "source": [
    "!ansible {target} -b -a 'whoami'"
   ]
  }, 
  {
   "cell_type": "markdown", 
   "metadata": {}, 
   "source": [
    "Kafka ConnectのURLを指定してください。"
   ]
  }, 
  {
   "cell_type": "code", 
   "execution_count": null, 
   "metadata": {}, 
   "outputs": [], 
   "source": [
    "url = 'http://172.30.2.20:8083/connectors'"
   ]
  }, 
  {
   "cell_type": "markdown", 
   "metadata": {}, 
   "source": [
    "Kafka ConnectのREST APIにアクセスしてみます。\n", 
    "\n", 
    "正しくアクセスできた場合は、`<Response [200]>` と表示されます。"
   ]
  }, 
  {
   "cell_type": "code", 
   "execution_count": null, 
   "metadata": {}, 
   "outputs": [], 
   "source": [
    "import requests\n", 
    "r = requests.get(url)\n", 
    "print(r)\n", 
    "print(r.json())"
   ]
  }, 
  {
   "cell_type": "markdown", 
   "metadata": {}, 
   "source": [
    "# 認証情報の設定\n", 
    "\n", 
    "AWS S3にアクセスするための認証情報を設定します。"
   ]
  }, 
  {
   "cell_type": "markdown", 
   "metadata": {}, 
   "source": [
    "S3コネクタが AWS の認証情報を取得する方法は[AWS 認証情報の使用](https://docs.aws.amazon.com/ja_jp/sdk-for-java/v1/developer-guide/credentials.html)に記述されています。以下の方法があります。\n", 
    "\n", 
    "* 環境変数\n", 
    "  – AWS_ACCESS_KEY_ID, AWS_SECRET_ACCESS_KEY\n", 
    "* Java のシステムプロパティ\n", 
    "  - aws.accessKeyId, aws.secretKey\n", 
    "* デフォルトの認証情報プロファイルファイル\n", 
    "  - 通常は `~/.aws/credentials`\n", 
    "* Amazon ECS コンテナの認証情報\n", 
    "* インスタンスプロファイル認証情報\n", 
    "\n", 
    "このNotebookではKafka Connectサービスの環境変数にアクセスキー、シークレットキーの値を設定します。"
   ]
  }, 
  {
   "cell_type": "markdown", 
   "metadata": {}, 
   "source": [
    "## 認証情報の入力"
   ]
  }, 
  {
   "cell_type": "markdown", 
   "metadata": {}, 
   "source": [
    "AWSのアクセスキーを入力してください。"
   ]
  }, 
  {
   "cell_type": "code", 
   "execution_count": null, 
   "metadata": {}, 
   "outputs": [], 
   "source": [
    "from getpass import getpass\n", 
    "aws_access_key = getpass()"
   ]
  }, 
  {
   "cell_type": "markdown", 
   "metadata": {}, 
   "source": [
    "シークレットキーを入力してください。\n"
   ]
  }, 
  {
   "cell_type": "code", 
   "execution_count": null, 
   "metadata": {}, 
   "outputs": [], 
   "source": [
    "aws_secret_key = getpass()"
   ]
  }, 
  {
   "cell_type": "markdown", 
   "metadata": {}, 
   "source": [
    "## 設定ファイルの更新\n", 
    "\n", 
    "Kafka Connectサービスの設定ファイルを更新して、アクセスキー、シークレットキーをサービスの環境変数に設定するようにします。"
   ]
  }, 
  {
   "cell_type": "markdown", 
   "metadata": {}, 
   "source": [
    "環境変数を書き込む設定ファイルを作成します。"
   ]
  }, 
  {
   "cell_type": "code", 
   "execution_count": null, 
   "metadata": {}, 
   "outputs": [], 
   "source": [
    "from tempfile import TemporaryDirectory\n", 
    "from pathlib import Path"
   ]
  }, 
  {
   "cell_type": "code", 
   "execution_count": null, 
   "metadata": {}, 
   "outputs": [], 
   "source": [
    "with TemporaryDirectory() as work_dir:\n", 
    "    dot_env = Path(work_dir) / '.env'\n", 
    "    with dot_env.open(mode='w') as f:\n", 
    "        f.write(f'''\n", 
    "AWS_ACCESS_KEY_ID={aws_access_key}\n", 
    "AWS_SECRET_ACCESS_KEY={aws_secret_key}\n", 
    "''')\n", 
    "    !ansible {target} -b -m copy -a 'src={dot_env} dest=kafka-connect/'"
   ]
  }, 
  {
   "cell_type": "code", 
   "execution_count": null, 
   "metadata": {}, 
   "outputs": [], 
   "source": [
    "!ansible {target} -a 'chdir=kafka-connect docker-compose up -d'"
   ]
  }, 
  {
   "cell_type": "markdown", 
   "metadata": {}, 
   "source": [
    "# S3 コネクタを登録する\n", 
    "\n", 
    "Kafka ConnectにS3コネクタを登録します。登録は Kafka Connectの[REST API](https://docs.confluent.io/current/connect/references/restapi.html)で行います。"
   ]
  }, 
  {
   "cell_type": "markdown", 
   "metadata": {}, 
   "source": [
    "## パラメータの設定"
   ]
  }, 
  {
   "cell_type": "markdown", 
   "metadata": {}, 
   "source": [
    "Kafkaのトピックを指定してください。"
   ]
  }, 
  {
   "cell_type": "code", 
   "execution_count": null, 
   "metadata": {}, 
   "outputs": [], 
   "source": [
    "# topics = 'distributed-video1,distributed-video2,distributed-video3'\n", 
    "topics = 'distributed-video1'"
   ]
  }, 
  {
   "cell_type": "markdown", 
   "metadata": {}, 
   "source": [
    "S3のリージョンを指定してください。"
   ]
  }, 
  {
   "cell_type": "code", 
   "execution_count": null, 
   "metadata": {}, 
   "outputs": [], 
   "source": [
    "s3_region = 'ap-northeast-1'"
   ]
  }, 
  {
   "cell_type": "markdown", 
   "metadata": {}, 
   "source": [
    "S3のバケット名を指定してください。"
   ]
  }, 
  {
   "cell_type": "code", 
   "execution_count": null, 
   "metadata": {}, 
   "outputs": [], 
   "source": [
    "s3_bucket = 'nii-dp-test-20190220'"
   ]
  }, 
  {
   "cell_type": "markdown", 
   "metadata": {}, 
   "source": [
    "ここまで、入力されたパラメータから、コネクタの登録を行う REST APIの JSON オブジェクトに対応する Python オブジェクトを作成します。"
   ]
  }, 
  {
   "cell_type": "code", 
   "execution_count": null, 
   "metadata": {}, 
   "outputs": [], 
   "source": [
    "s3_sink = {\n", 
    "    \"name\": \"s3-sink\",\n", 
    "    \"config\": {\n", 
    "        \"connector.class\": \"io.confluent.connect.s3.S3SinkConnector\",\n", 
    "        \"value.converter\": \"org.apache.kafka.connect.converters.ByteArrayConverter\",\n", 
    "        \"format.class\": \"io.confluent.connect.s3.format.bytearray.ByteArrayFormat\",\n", 
    "        \"storage.class\": \"io.confluent.connect.s3.storage.S3Storage\",\n", 
    "        \"tasks.max\": 3,\n", 
    "        \"topics\": topics,\n", 
    "        \"flush.size\": \"1\",\n", 
    "        \"schema.compatibility\": \"NONE\",\n", 
    "        \"s3.region\": s3_region,\n", 
    "        \"s3.bucket.name\": s3_bucket,\n", 
    "        \"partitioner.class\": \"io.confluent.connect.storage.partitioner.DailyPartitioner\",\n", 
    "        \"timestamp.extractor\": \"Record\",\n", 
    "        \"partition.duration.ms\": 3600000,\n", 
    "        \"locale\": \"C\",\n", 
    "        \"timezone\": \"Asia/Tokyo\",\n", 
    "    },\n", 
    "}"
   ]
  }, 
  {
   "cell_type": "markdown", 
   "metadata": {}, 
   "source": [
    "ここでは Kafka で送られてくる JPEGデータを S3 に格納することを想定して[Write raw message values into S3](https://docs.confluent.io/current/connect/kafka-connect-s3/index.html#write-raw-message-values-into-s3)の設定手順を参考にしました。"
   ]
  }, 
  {
   "cell_type": "markdown", 
   "metadata": {}, 
   "source": [
    "> AWS以外の S3互換ストレージを指定する場合は `store.url` に URLを指定すればよいはずです。\n", 
    "> 詳細は[S3 Connector Configuration Options](https://docs.confluent.io/current/connect/kafka-connect-s3/configuration_options.html#storage)を参照してください。"
   ]
  }, 
  {
   "cell_type": "markdown", 
   "metadata": {}, 
   "source": [
    "## コネクタの登録\n", 
    "\n", 
    "REST APIを実行してS3 コネクタを登録します。"
   ]
  }, 
  {
   "cell_type": "markdown", 
   "metadata": {}, 
   "source": [
    "Kafka Connect のURLを確認します。"
   ]
  }, 
  {
   "cell_type": "code", 
   "execution_count": null, 
   "metadata": {}, 
   "outputs": [], 
   "source": [
    "print(url)"
   ]
  }, 
  {
   "cell_type": "markdown", 
   "metadata": {}, 
   "source": [
    "コネクタの登録を行います。\n", 
    "\n", 
    "> 登録が成功すると、次のセルの出力に `<Response [201]>`と表示されます。"
   ]
  }, 
  {
   "cell_type": "code", 
   "execution_count": null, 
   "metadata": {}, 
   "outputs": [], 
   "source": [
    "r = requests.post(url, json=s3_sink)\n", 
    "r"
   ]
  }, 
  {
   "cell_type": "markdown", 
   "metadata": {}, 
   "source": [
    "S3コネクタが登録されたことを確認するためにコネクタの一覧を表示します。"
   ]
  }, 
  {
   "cell_type": "code", 
   "execution_count": null, 
   "metadata": {}, 
   "outputs": [], 
   "source": [
    "r = requests.get(url)\n", 
    "print(r.json())"
   ]
  }, 
  {
   "cell_type": "markdown", 
   "metadata": {}, 
   "source": [
    "登録したコネクタを削除する場合は、以下のコードを実行してください。\n", 
    "\n", 
    "```\n", 
    "r = requests.delete(f'{url}/{s3_sink[\"name\"]}')\n", 
    "r\n", 
    "```"
   ]
  }
 ], 
 "metadata": {
  "kernelspec": {
   "display_name": "Python 3", 
   "language": "python", 
   "name": "python3"
  }, 
  "language_info": {
   "codemirror_mode": {
    "name": "ipython", 
    "version": 3
   }, 
   "file_extension": ".py", 
   "mimetype": "text/x-python", 
   "name": "python", 
   "nbconvert_exporter": "python", 
   "pygments_lexer": "ipython3", 
   "version": "3.6.6"
  }, 
  "toc": {
   "base_numbering": 1, 
   "nav_menu": {}, 
   "number_sections": true, 
   "sideBar": true, 
   "skip_h1_title": false, 
   "title_cell": "Table of Contents", 
   "title_sidebar": "Contents", 
   "toc_cell": false, 
   "toc_position": {}, 
   "toc_section_display": true, 
   "toc_window_display": true
  }
 }, 
 "nbformat": 4, 
 "nbformat_minor": 2
}
