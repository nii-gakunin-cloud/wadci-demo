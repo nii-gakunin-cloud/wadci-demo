{
 "cells": [
  {
   "cell_type": "markdown", 
   "metadata": {}, 
   "source": [
    "# Apache Kafkaのセットアップ\n", 
    "\n", 
    "AKafka Connectをセットアップします。"
   ]
  }, 
  {
   "cell_type": "markdown", 
   "metadata": {
    "heading_collapsed": true
   }, 
   "source": [
    "# 事前チェック\n", 
    "\n", 
    "Kafka Connectの構築を行うノードは「00-001-ノードの起動.ipynb」の Notebook で起動したVCノードである、または「00-002-既存ノードの登録」で準備したノードであることを想定しています。\n", 
    "\n", 
    "それ以外のノードに対して環境構築を行う場合は、以下の条件を満たすように準備を行ってください。\n", 
    "\n", 
    "1. 対象となるノードを Ansible で操作できる\n", 
    "1. Docker のセットアップが済んでいる\n", 
    "1. 構築に利用するツールがインストールされていること\n", 
    "  - rsync\n", 
    "  - docker-compose\n", 
    "1. ホスト名が名前解決できること"
   ]
  }, 
  {
   "cell_type": "markdown", 
   "metadata": {
    "hidden": true
   }, 
   "source": [
    "1., 2., 3. については、以下でチェックします。"
   ]
  }, 
  {
   "cell_type": "code", 
   "execution_count": null, 
   "metadata": {
    "hidden": true
   }, 
   "outputs": [], 
   "source": [
    "target = 'connector'"
   ]
  }, 
  {
   "cell_type": "markdown", 
   "metadata": {
    "hidden": true
   }, 
   "source": [
    "Ansibleで操作できることを確認します。"
   ]
  }, 
  {
   "cell_type": "code", 
   "execution_count": null, 
   "metadata": {
    "hidden": true, 
    "scrolled": true
   }, 
   "outputs": [], 
   "source": [
    "!ansible {target} -m ping"
   ]
  }, 
  {
   "cell_type": "code", 
   "execution_count": null, 
   "metadata": {
    "hidden": true
   }, 
   "outputs": [], 
   "source": [
    "!ansible {target} -b -a 'whoami'"
   ]
  }, 
  {
   "cell_type": "markdown", 
   "metadata": {
    "hidden": true
   }, 
   "source": [
    "Dockerが利用できることを確認します。"
   ]
  }, 
  {
   "cell_type": "code", 
   "execution_count": null, 
   "metadata": {
    "hidden": true, 
    "scrolled": true
   }, 
   "outputs": [], 
   "source": [
    "!ansible {target} -a 'docker info'"
   ]
  }, 
  {
   "cell_type": "markdown", 
   "metadata": {
    "hidden": true
   }, 
   "source": [
    "必要なコマンドがインストールされていることを確認します。"
   ]
  }, 
  {
   "cell_type": "code", 
   "execution_count": null, 
   "metadata": {
    "hidden": true
   }, 
   "outputs": [], 
   "source": [
    "!ansible {target} -a 'which rsync'"
   ]
  }, 
  {
   "cell_type": "code", 
   "execution_count": null, 
   "metadata": {
    "hidden": true
   }, 
   "outputs": [], 
   "source": [
    "!ansible {target} -a 'docker-compose version'"
   ]
  }, 
  {
   "cell_type": "markdown", 
   "metadata": {}, 
   "source": [
    "# パラメータの指定"
   ]
  }, 
  {
   "cell_type": "markdown", 
   "metadata": {}, 
   "source": [
    "Kafka Broker のサーバアドレスを指定してください。\n", 
    "\n", 
    "> 「00-101-Apache Kafkaのセットアップ.ipynb」で構築したホスト名とポート番号の組からなるサーバアドレスのリストを指定してください。"
   ]
  }, 
  {
   "cell_type": "code", 
   "execution_count": null, 
   "metadata": {}, 
   "outputs": [], 
   "source": [
    "bootstrap_servers = [\n", 
    "    'broker-0:9092',\n", 
    "    'broker-1:9092',\n", 
    "    'broker-2:9092',\n", 
    "]"
   ]
  }, 
  {
   "cell_type": "markdown", 
   "metadata": {}, 
   "source": [
    "コネクタのグループIDを指定してください。"
   ]
  }, 
  {
   "cell_type": "code", 
   "execution_count": null, 
   "metadata": {}, 
   "outputs": [], 
   "source": [
    "group_id = 'connect-cluster-dp-01'"
   ]
  }, 
  {
   "cell_type": "markdown", 
   "metadata": {}, 
   "source": [
    "コネクタの設定値を保存するトピック名を指定してください。"
   ]
  }, 
  {
   "cell_type": "code", 
   "execution_count": null, 
   "metadata": {}, 
   "outputs": [], 
   "source": [
    "config_topic = 'connect-configs-dp-01'"
   ]
  }, 
  {
   "cell_type": "code", 
   "execution_count": null, 
   "metadata": {}, 
   "outputs": [], 
   "source": [
    "offset_topic = 'connect-offsets-dp-01'"
   ]
  }, 
  {
   "cell_type": "code", 
   "execution_count": null, 
   "metadata": {}, 
   "outputs": [], 
   "source": [
    "status_topic = 'connect-status-dp-01'"
   ]
  }, 
  {
   "cell_type": "markdown", 
   "metadata": {
    "heading_collapsed": true
   }, 
   "source": [
    "# Kafka Connect の実行\n", 
    "\n", 
    "[Kafka Connect Configuration](https://docs.confluent.io/current/installation/docker/config-reference.html#kafka-connect-configuration)に示されている環境変数を設定します。"
   ]
  }, 
  {
   "cell_type": "code", 
   "execution_count": null, 
   "metadata": {
    "hidden": true, 
    "scrolled": true
   }, 
   "outputs": [], 
   "source": [
    "from tempfile import TemporaryDirectory\n", 
    "from pathlib import Path\n", 
    "import json\n", 
    "\n", 
    "with TemporaryDirectory() as work_dir:\n", 
    "    docker_compose_yml = Path(work_dir) / 'docker-compose.yml'\n", 
    "    with docker_compose_yml.open(mode='w') as f:\n", 
    "        f.write('''version: '2.4'\n", 
    "services:\n", 
    "  connect:\n", 
    "    image: confluentinc/cp-kafka-connect\n", 
    "    environment:\n", 
    "      CONNECT_BOOTSTRAP_SERVERS: {% for sv in bootstrap_servers %}{%if not loop.first %},{% endif %}{{sv}}{% endfor %}\n", 
    "\n", 
    "      CONNECT_GROUP_ID: {{group_id}}\n", 
    "      CONNECT_CONFIG_STORAGE_TOPIC: {{config_topic}}\n", 
    "      CONNECT_OFFSET_STORAGE_TOPIC: {{offset_topic}}\n", 
    "      CONNECT_STATUS_STORAGE_TOPIC: {{status_topic}}\n", 
    "      CONNECT_REST_PORT: 8083\n", 
    "      CONNECT_KEY_CONVERTER: org.apache.kafka.connect.json.JsonConverter\n", 
    "      CONNECT_VALUE_CONVERTER: org.apache.kafka.connect.json.JsonConverter\n", 
    "      CONNECT_INTERNAL_KEY_CONVERTER: org.apache.kafka.connect.json.JsonConverter\n", 
    "      CONNECT_INTERNAL_VALUE_CONVERTER: org.apache.kafka.connect.json.JsonConverter\n", 
    "      CONNECT_PLUGIN_PATH: /usr/share/java\n", 
    "{% if replication_factor is defined %}\n", 
    "      CONNECT_CONFIG_STORAGE_REPLICATION_FACTOR: \"{{replication_factor}}\"\n", 
    "      CONNECT_OFFSET_STORAGE_REPLICATION_FACTOR: \"{{replication_factor}}\"\n", 
    "      CONNECT_STATUS_STORAGE_REPLICATION_FACTOR: \"{{replication_factor}}\"\n", 
    "{% endif %}\n", 
    "      CONNECT_REST_ADVERTISED_HOST_NAME: {{inventory_hostname_short}}\n", 
    "    hostname: {{inventory_hostname_short}}\n", 
    "    env_file: .env\n", 
    "    network_mode: 'host'\n", 
    "    init: true\n", 
    "    restart: always\n", 
    "''')\n", 
    "    !ansible {target} -m file -a 'path=kafka-connect state=directory'\n", 
    "    params = {\n", 
    "        'bootstrap_servers': bootstrap_servers,\n", 
    "        'group_id': group_id,\n", 
    "        'config_topic': config_topic,\n", 
    "        'offset_topic': offset_topic,\n", 
    "        'status_topic': status_topic,\n", 
    "    }\n", 
    "    if len(bootstrap_servers) < 3:\n", 
    "        params['replication_factor'] = len(bootstrap_servers)\n", 
    "    params_json = Path(work_dir) / 'params.json'\n", 
    "    with params_json.open(mode='w') as f:\n", 
    "        json.dump(params, f)\n", 
    "    !ansible {target} -m template -e @{params_json} \\\n", 
    "        -a 'src={docker_compose_yml} dest=kafka-connect/'\n", 
    "    !ansible {target} -m file -a 'path=kafka-connect/.env state=touch'        "
   ]
  }, 
  {
   "cell_type": "markdown", 
   "metadata": {
    "hidden": true
   }, 
   "source": [
    "コンテナを実行します。"
   ]
  }, 
  {
   "cell_type": "code", 
   "execution_count": null, 
   "metadata": {
    "hidden": true
   }, 
   "outputs": [], 
   "source": [
    "!ansible {target} -a 'chdir=kafka-connect docker-compose up -d'"
   ]
  }, 
  {
   "cell_type": "markdown", 
   "metadata": {
    "hidden": true
   }, 
   "source": [
    "コンテナの状態を確認します。"
   ]
  }, 
  {
   "cell_type": "code", 
   "execution_count": null, 
   "metadata": {
    "hidden": true
   }, 
   "outputs": [], 
   "source": [
    "!ansible {target} -a 'chdir=kafka-connect docker-compose ps'"
   ]
  }
 ], 
 "metadata": {
  "kernelspec": {
   "display_name": "Python 3", 
   "language": "python", 
   "name": "python3"
  }, 
  "language_info": {
   "codemirror_mode": {
    "name": "ipython", 
    "version": 3
   }, 
   "file_extension": ".py", 
   "mimetype": "text/x-python", 
   "name": "python", 
   "nbconvert_exporter": "python", 
   "pygments_lexer": "ipython3", 
   "version": "3.6.7"
  }, 
  "toc": {
   "base_numbering": 1, 
   "nav_menu": {}, 
   "number_sections": true, 
   "sideBar": true, 
   "skip_h1_title": false, 
   "title_cell": "Table of Contents", 
   "title_sidebar": "Contents", 
   "toc_cell": false, 
   "toc_position": {
    "height": "calc(100% - 180px)", 
    "left": "10px", 
    "top": "150px", 
    "width": "348.6px"
   }, 
   "toc_section_display": true, 
   "toc_window_display": true
  }
 }, 
 "nbformat": 4, 
 "nbformat_minor": 2
}
