{
 "cells": [
  {
   "cell_type": "markdown", 
   "metadata": {}, 
   "source": [
    "デモ用カメラ画像（例：徳島からのカメラ画像）\n", 
    "\n", 
    "RaspberryPiがkafkaに送った画像を取得して、アニメーション表示します。\n", 
    "\n", 
    "matplotlib、numpy、kafka-pythonを使うので、環境に応じて足りないモジュールをインストールします。\n", 
    "（下記は、kafka-pythonのみ足りない場合の例）"
   ]
  }, 
  {
   "cell_type": "code", 
   "execution_count": null, 
   "metadata": {
    "lc_wrapper": {
     "log_history": [
      "/home/testemail1c7b99/demo/.log/20190304/20190304-152026-0408.log", 
      "/home/testemail1c7b99/demo/.log/20190304/20190304-152052-0841.log", 
      "/home/testemailde9fce/.log/20190306/20190306-144031-0540.log", 
      "/home/testemailde9fce/.log/20190306/20190306-202804-0095.log", 
      "/home/testemail18bea7/.log/20190307/20190307-103417-0209.log", 
      "/home/testemail18bea7/.log/20190318/20190318-155001-0401.log"
     ]
    }
   }, 
   "outputs": [], 
   "source": [
    "!pip install kafka-python --user"
   ]
  }, 
  {
   "cell_type": "markdown", 
   "metadata": {}, 
   "source": [
    "取得するトピック名、サーバについての情報を定義しておきます。\n", 
    "個々の環境に応じて変更してください。"
   ]
  }, 
  {
   "cell_type": "code", 
   "execution_count": null, 
   "metadata": {}, 
   "outputs": [], 
   "source": [
    "topic = 'distributed-video2'"
   ]
  }, 
  {
   "cell_type": "code", 
   "execution_count": null, 
   "metadata": {}, 
   "outputs": [], 
   "source": [
    "kafka_brokers = [\n", 
    "    'kafka0.example.org:9092',\n", 
    "    'kafka1.example.org:9092',\n", 
    "    'kafka2.example.org:9092',\n", 
    "]"
   ]
  }, 
  {
   "cell_type": "markdown", 
   "metadata": {}, 
   "source": [
    "定義した情報を元に、画像を取得し、アニメーション表示します。\n", 
    "無限ループになっているので、使い終わったら、KernelのInterruptやRestartを使って、手動で止めてください。"
   ]
  }, 
  {
   "cell_type": "code", 
   "execution_count": null, 
   "metadata": {
    "lc_wrapper": {
     "log_history": [
      "/home/testemail1c7b99/demo/.log/20190305/20190305-134819-0615.log", 
      "/home/testemail1c7b99/demo/.log/20190305/20190305-134916-0017.log", 
      "/home/testemail1c7b99/demo/.log/20190305/20190305-135137-0200.log", 
      "/home/testemail1c7b99/demo/.log/20190305/20190305-135248-0065.log", 
      "/home/testemail1c7b99/demo/.log/20190305/20190305-135400-0222.log", 
      "/home/testemail1c7b99/demo/.log/20190305/20190305-144453-0349.log", 
      "/home/testemail1c7b99/demo/.log/20190305/20190305-144635-0432.log", 
      "/home/testemail1c7b99/demo/.log/20190305/20190305-182436-0312.log", 
      "/home/testemail1c7b99/demo/.log/20190305/20190305-183851-0871.log", 
      "/home/testemail1c7b99/demo/.log/20190305/20190305-203424-0727.log", 
      "/home/testemail1c7b99/demo/.log/20190305/20190305-203428-0491.log", 
      "/home/testemail1c7b99/demo/.log/20190305/20190305-203637-0856.log", 
      "/home/testemail1c7b99/demo/.log/20190305/20190305-204105-0673.log", 
      "/home/testemail1c7b99/demo/.log/20190305/20190305-204129-0668.log", 
      "/home/testemail1c7b99/demo/.log/20190305/20190305-204133-0618.log", 
      "/home/testemail1c7b99/demo/.log/20190305/20190305-204146-0544.log", 
      "/home/testemail1c7b99/demo/.log/20190305/20190305-204321-0536.log", 
      "/home/testemail1c7b99/demo/.log/20190305/20190305-204327-0145.log", 
      "/home/testemail1c7b99/demo/.log/20190305/20190305-204330-0981.log", 
      "/home/testemail1c7b99/demo/.log/20190305/20190305-204351-0257.log", 
      "/home/testemail1c7b99/demo/.log/20190305/20190305-204355-0982.log", 
      "/home/testemail1c7b99/demo/.log/20190305/20190305-204359-0487.log", 
      "/home/testemail1c7b99/demo/.log/20190305/20190305-204414-0311.log", 
      "/home/testemail1c7b99/demo/.log/20190305/20190305-204447-0116.log", 
      "/home/testemail1c7b99/demo/.log/20190305/20190305-204544-0663.log", 
      "/home/testemail1c7b99/demo/.log/20190305/20190305-205003-0001.log", 
      "/home/testemail1c7b99/demo/.log/20190305/20190305-205007-0196.log", 
      "/home/testemail1c7b99/demo/.log/20190305/20190305-205131-0780.log", 
      "/home/testemail1c7b99/demo/.log/20190305/20190305-205134-0883.log", 
      "/home/testemail1c7b99/demo/.log/20190305/20190305-205514-0158.log", 
      "/home/testemail1c7b99/demo/.log/20190305/20190305-205710-0122.log", 
      "/home/testemail1c7b99/demo/.log/20190305/20190305-210550-0427.log", 
      "/home/testemail1c7b99/demo/.log/20190305/20190305-210616-0481.log", 
      "/home/testemail1c7b99/demo/.log/20190305/20190305-210946-0169.log", 
      "/home/testemail1c7b99/demo/.log/20190305/20190305-211051-0639.log", 
      "/home/testemail1c7b99/demo/.log/20190305/20190305-211058-0835.log", 
      "/home/testemail1c7b99/demo/.log/20190305/20190305-211113-0452.log", 
      "/home/testemail1c7b99/demo/.log/20190305/20190305-211917-0409.log", 
      "/home/testemail1c7b99/demo/.log/20190305/20190305-214553-0613.log", 
      "/home/testemail1c7b99/demo/.log/20190306/20190306-134641-0517.log", 
      "/home/testemail1c7b99/demo/.log/20190306/20190306-134945-0177.log", 
      "/home/testemailde9fce/.log/20190306/20190306-144043-0956.log", 
      "/home/testemailde9fce/.log/20190306/20190306-144101-0556.log", 
      "/home/testemailde9fce/.log/20190306/20190306-144136-0841.log", 
      "/home/testemailde9fce/.log/20190306/20190306-231530-0346.log", 
      "/home/testemailde9fce/.log/20190306/20190306-231900-0500.log", 
      "/home/testemailde9fce/.log/20190306/20190306-231959-0198.log", 
      "/home/testemailde9fce/.log/20190307/20190307-001912-0434.log", 
      "/home/testemailde9fce/.log/20190307/20190307-002643-0812.log", 
      "/home/testemailde9fce/.log/20190307/20190307-002818-0941.log", 
      "/home/testemailde9fce/.log/20190307/20190307-095118-0718.log", 
      "/home/testemailde9fce/.log/20190307/20190307-100456-0342.log", 
      "/home/testemailde9fce/.log/20190307/20190307-100502-0383.log", 
      "/home/testemailde9fce/.log/20190307/20190307-100506-0278.log", 
      "/home/testemail18bea7/.log/20190307/20190307-103421-0455.log", 
      "/home/testemail18bea7/.log/20190307/20190307-103433-0619.log", 
      "/home/testemail18bea7/.log/20190307/20190307-103436-0993.log", 
      "/home/testemail18bea7/.log/20190307/20190307-103520-0761.log", 
      "/home/testemail18bea7/.log/20190307/20190307-105327-0338.log", 
      "/home/testemail18bea7/.log/20190307/20190307-122927-0824.log", 
      "/home/testemail18bea7/.log/20190307/20190307-123008-0748.log", 
      "/home/testemail18bea7/.log/20190307/20190307-123412-0925.log", 
      "/home/testemail18bea7/.log/20190307/20190307-124038-0164.log", 
      "/home/testemail18bea7/.log/20190307/20190307-124041-0052.log", 
      "/home/testemail18bea7/.log/20190314/20190314-140318-0322.log", 
      "/home/testemail18bea7/.log/20190318/20190318-155011-0134.log", 
      "/home/testemail18bea7/.log/20190318/20190318-155118-0024.log"
     ]
    }
   }, 
   "outputs": [], 
   "source": [
    "%matplotlib notebook\n", 
    "\n", 
    "import sys\n", 
    "import matplotlib.pyplot as plt\n", 
    "import matplotlib.animation as animation\n", 
    "import numpy as np\n", 
    "from kafka import KafkaConsumer\n", 
    "from PIL import Image\n", 
    "from io import BytesIO\n", 
    "\n", 
    "label = 'Camera @ Tokushima'\n", 
    "fig, ax = plt.subplots(figsize=(4,3), num=label)\n", 
    "\n", 
    "consumer = KafkaConsumer(topic, bootstrap_servers=kafka_brokers)\n", 
    "\n", 
    "def update(msg):\n", 
    "    im = Image.open(BytesIO(msg.value))\n", 
    "    im_list = np.asarray(im)\n", 
    "    plt.clf()\n", 
    "    plt.imshow(im_list)\n", 
    "\n", 
    "hoge = animation.FuncAnimation(fig, update, consumer, interval=100)\n", 
    "plt.show()"
   ]
  }
 ], 
 "metadata": {
  "kernelspec": {
   "display_name": "Python 3 (LC_wrapper)", 
   "language": "python", 
   "name": "python3-wrapper"
  }, 
  "language_info": {
   "file_extension": ".py", 
   "mimetype": "text/x-python", 
   "name": "python", 
   "nbconvert_exporter": "python", 
   "pygments_lexer": "ipython3", 
   "version": "3.6.7"
  }, 
  "toc": {
   "base_numbering": 1, 
   "nav_menu": {}, 
   "number_sections": true, 
   "sideBar": true, 
   "skip_h1_title": false, 
   "title_cell": "Table of Contents", 
   "title_sidebar": "Contents", 
   "toc_cell": false, 
   "toc_position": {}, 
   "toc_section_display": true, 
   "toc_window_display": false
  }
 }, 
 "nbformat": 4, 
 "nbformat_minor": 2
}
