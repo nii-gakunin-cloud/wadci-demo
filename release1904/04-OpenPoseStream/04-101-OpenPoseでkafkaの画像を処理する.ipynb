{
 "cells": [
  {
   "cell_type": "markdown", 
   "metadata": {}, 
   "source": [
    "# OpenPoseでkafkaの画像を処理する\n", 
    "\n", 
    "kafkaの一連の画像ファイルを [OpenPose](https://github.com/CMU-Perceptual-Computing-Lab/openpose) で処理します。処理後の画像ファイルは kafka の別トピックに送ります。"
   ]
  }, 
  {
   "cell_type": "markdown", 
   "metadata": {}, 
   "source": [
    "# 事前チェック\n", 
    "\n", 
    "このNotebookの処理は「04-001-GPUインスタンスを起動する.ipynb」で起動したGPUインスタンスを利用することを想定しています。\n", 
    "\n", 
    "それ以外のノードに対して環境構築を行う場合は、以下の条件を満たすように準備を行ってください。\n", 
    "\n", 
    "1. 対象となるノードを Ansible で操作できる\n", 
    "1. GPUが利用可能であること\n", 
    "1. [nvidia-docker](https://github.com/NVIDIA/nvidia-docker)のセットアップが済んでいること\n", 
    "1. 構築に利用するツールがインストールされていること\n", 
    "  - rsync\n", 
    "  - docker-compose"
   ]
  }, 
  {
   "cell_type": "markdown", 
   "metadata": {}, 
   "source": [
    "GPUインスタンスのVCノードを Ansible で操作できることを確認します。"
   ]
  }, 
  {
   "cell_type": "code", 
   "execution_count": null, 
   "metadata": {}, 
   "outputs": [], 
   "source": [
    "target = 'openpose-04'"
   ]
  }, 
  {
   "cell_type": "code", 
   "execution_count": null, 
   "metadata": {}, 
   "outputs": [], 
   "source": [
    "!ansible {target} -m ping"
   ]
  }, 
  {
   "cell_type": "markdown", 
   "metadata": {}, 
   "source": [
    "GPUが利用できることを確認します。`/dev/nvidia0` があることを確認します。"
   ]
  }, 
  {
   "cell_type": "code", 
   "execution_count": null, 
   "metadata": {}, 
   "outputs": [], 
   "source": [
    "!ansible {target} -a 'ls -la /dev/nvidia0'"
   ]
  }, 
  {
   "cell_type": "markdown", 
   "metadata": {}, 
   "source": [
    "Docker のランタイムとして nvidia が指定できることを確認します。\n", 
    "\n", 
    "nvidia のランタイムが登録されている場合は、以下のような出力となります。\n", 
    "```\n", 
    "{nvidia-container-runtime []}\n", 
    "```"
   ]
  }, 
  {
   "cell_type": "code", 
   "execution_count": null, 
   "metadata": {}, 
   "outputs": [], 
   "source": [
    "!ansible {target} -a 'docker info -f \"{{%raw%}}{{{{.Runtimes.nvidia}}}}{{%endraw%}}\"'"
   ]
  }, 
  {
   "cell_type": "markdown", 
   "metadata": {}, 
   "source": [
    "必要なコマンドがインストールされていることを確認します。"
   ]
  }, 
  {
   "cell_type": "code", 
   "execution_count": null, 
   "metadata": {}, 
   "outputs": [], 
   "source": [
    "!ansible {target} -a 'which rsync'"
   ]
  }, 
  {
   "cell_type": "code", 
   "execution_count": null, 
   "metadata": {}, 
   "outputs": [], 
   "source": [
    "!ansible {target} -a 'docker-compose version'"
   ]
  }, 
  {
   "cell_type": "markdown", 
   "metadata": {}, 
   "source": [
    "# パラメータの指定"
   ]
  }, 
  {
   "cell_type": "markdown", 
   "metadata": {}, 
   "source": [
    "処理画像の取得元となる kafka のトピックを指定してください。"
   ]
  }, 
  {
   "cell_type": "code", 
   "execution_count": null, 
   "metadata": {}, 
   "outputs": [], 
   "source": [
    "topic_src = 'distributed-video1'"
   ]
  }, 
  {
   "cell_type": "markdown", 
   "metadata": {}, 
   "source": [
    "OpenPoseで処理した画像の送り先となる kafka のトピックを指定してください。"
   ]
  }, 
  {
   "cell_type": "code", 
   "execution_count": null, 
   "metadata": {}, 
   "outputs": [], 
   "source": [
    "topic_dst = 'distributed-video1-openpose'"
   ]
  }, 
  {
   "cell_type": "markdown", 
   "metadata": {}, 
   "source": [
    "Kafkaの brokerのアドレスを指定してください。"
   ]
  }, 
  {
   "cell_type": "code", 
   "execution_count": null, 
   "metadata": {}, 
   "outputs": [], 
   "source": [
    "kafka_brokers = [\n", 
    "    'broker-0:9092',\n", 
    "    'broker-1:9092',\n", 
    "    'broker-2:9092',   \n", 
    "]"
   ]
  }, 
  {
   "cell_type": "markdown", 
   "metadata": {}, 
   "source": [
    "broker の各ノードのホスト名とIPアドレスの対応を指定してください。"
   ]
  }, 
  {
   "cell_type": "code", 
   "execution_count": null, 
   "metadata": {}, 
   "outputs": [], 
   "source": [
    "kafka_hosts = {\n", 
    "    'broker-0': '172.30.2.10',\n", 
    "    'broker-1': '172.30.2.11',\n", 
    "    'broker-2': '172.30.2.12',\n", 
    "}"
   ]
  }, 
  {
   "cell_type": "markdown", 
   "metadata": {}, 
   "source": [
    "処理対象となる画像を取得する際のコンシューマグループIDを指定してください。\n", 
    "\n", 
    "> コンシューマが、どこまでKafkaのトピックを取得したのかは Kafka で管理されています。ここで指定した値は、Kafkaがコンシューマを特定するための用いる値となります。"
   ]
  }, 
  {
   "cell_type": "code", 
   "execution_count": null, 
   "metadata": {}, 
   "outputs": [], 
   "source": [
    "consumer_group_id = 'openpose-001'"
   ]
  }, 
  {
   "cell_type": "markdown", 
   "metadata": {}, 
   "source": [
    "OpenPoseで処理を行う画像を間引く場合は次のセルのコメントを外して実行してください。"
   ]
  }, 
  {
   "cell_type": "code", 
   "execution_count": null, 
   "metadata": {}, 
   "outputs": [], 
   "source": [
    "# openpose_opts = ['-D', '3', ]     # この場合、画像3枚あたり1枚だけ OpenPoseで処理して、あとは捨てる"
   ]
  }, 
  {
   "cell_type": "markdown", 
   "metadata": {}, 
   "source": [
    "# OpenPoseの実行"
   ]
  }, 
  {
   "cell_type": "markdown", 
   "metadata": {}, 
   "source": [
    "## 設定ファイルの配置"
   ]
  }, 
  {
   "cell_type": "code", 
   "execution_count": null, 
   "metadata": {}, 
   "outputs": [], 
   "source": [
    "params = {\n", 
    "    'registry': '192.168.2.1:5001',\n", 
    "    'kafka_hosts': [f'{k}:{v}' for k, v in kafka_hosts.items()],\n", 
    "    'script_opts': [\n", 
    "        '-s', topic_src,\n", 
    "        '-d', topic_dst,\n", 
    "        '-b', ','.join(kafka_brokers),\n", 
    "        '-c', consumer_group_id,\n", 
    "        '--end',\n", 
    "    ],\n", 
    "}\n", 
    "if 'openpose_opts' in locals():\n", 
    "    params['script_opts'].extend(openpose_opts)"
   ]
  }, 
  {
   "cell_type": "code", 
   "execution_count": null, 
   "metadata": {
    "scrolled": true
   }, 
   "outputs": [], 
   "source": [
    "from tempfile import TemporaryDirectory\n", 
    "from pathlib import Path\n", 
    "import json\n", 
    "\n", 
    "!ansible {target} -m synchronize -a 'src=openpose/openpose-stream dest=.'\n", 
    "with TemporaryDirectory() as work_dir:\n", 
    "    vars_file = Path(work_dir) / 'vars.json'\n", 
    "    with vars_file.open(mode='w') as f:\n", 
    "        json.dump(params, f)\n", 
    "    !ansible {target} -m template -e @{vars_file} \\\n", 
    "        -a 'src=openpose/openpose-stream/docker-compose.yml \\\n", 
    "            dest=openpose-stream/'"
   ]
  }, 
  {
   "cell_type": "markdown", 
   "metadata": {}, 
   "source": [
    "## OpenPoseの実行\n", 
    "\n", 
    "Kafka の画像ファイルをOpenPose で処理します。"
   ]
  }, 
  {
   "cell_type": "markdown", 
   "metadata": {}, 
   "source": [
    "まず、OpenPoseのコンテナイメージを取得します。"
   ]
  }, 
  {
   "cell_type": "code", 
   "execution_count": null, 
   "metadata": {}, 
   "outputs": [], 
   "source": [
    "!ansible {target} -a 'chdir=openpose-stream docker-compose pull'"
   ]
  }, 
  {
   "cell_type": "markdown", 
   "metadata": {}, 
   "source": [
    "OpenPoseの処理を行うプロセスを起動します。"
   ]
  }, 
  {
   "cell_type": "code", 
   "execution_count": null, 
   "metadata": {}, 
   "outputs": [], 
   "source": [
    "!ansible {target} -a 'chdir=openpose-stream docker-compose up -d'"
   ]
  }, 
  {
   "cell_type": "markdown", 
   "metadata": {}, 
   "source": [
    "状態を確認します。"
   ]
  }, 
  {
   "cell_type": "code", 
   "execution_count": null, 
   "metadata": {}, 
   "outputs": [], 
   "source": [
    "!ansible {target} -a 'chdir=openpose-stream docker-compose ps'"
   ]
  }, 
  {
   "cell_type": "markdown", 
   "metadata": {}, 
   "source": [
    "# 処理結果の確認\n", 
    "\n", 
    "OpenPose で処理した画像をアニメーションで表示します。"
   ]
  }, 
  {
   "cell_type": "markdown", 
   "metadata": {}, 
   "source": [
    "## パラメータの指定"
   ]
  }, 
  {
   "cell_type": "markdown", 
   "metadata": {}, 
   "source": [
    "アニメーション表示用の kafka コンシューマのグループIDを指定します。"
   ]
  }, 
  {
   "cell_type": "code", 
   "execution_count": null, 
   "metadata": {}, 
   "outputs": [], 
   "source": [
    "animation_group_id = 'animation-001'"
   ]
  }, 
  {
   "cell_type": "markdown", 
   "metadata": {}, 
   "source": [
    "Kafka broker のアドレスを指定してください。\n", 
    "\n", 
    "> ここではNotebook環境からみた場合のアドレスを指定してください。３章で指定した値と異なる場合があります。"
   ]
  }, 
  {
   "cell_type": "code", 
   "execution_count": null, 
   "metadata": {}, 
   "outputs": [], 
   "source": [
    "animation_broker_servers = [\n", 
    "    'broker-0:9092',\n", 
    "    'broker-1:9092',\n", 
    "    'broker-2:9092',\n", 
    "]"
   ]
  }, 
  {
   "cell_type": "markdown", 
   "metadata": {}, 
   "source": [
    "## 画像の表示\n", 
    "\n", 
    "OpenPoseで処理した画像をアニメーションで表示します。"
   ]
  }, 
  {
   "cell_type": "markdown", 
   "metadata": {}, 
   "source": [
    "Kafkaから画像を取得するためのコンシューマをつくります。\n", 
    "\n", 
    "> OpenPoseの処理対象となるトピックに"
   ]
  }, 
  {
   "cell_type": "code", 
   "execution_count": null, 
   "metadata": {}, 
   "outputs": [], 
   "source": [
    "from kafka import KafkaConsumer, TopicPartition\n", 
    "\n", 
    "consumer = KafkaConsumer(\n", 
    "    bootstrap_servers=animation_broker_servers,\n", 
    "    group_id=animation_group_id\n", 
    ")\n", 
    "partitions = consumer.partitions_for_topic(topic_dst)\n", 
    "if partitions is not None:\n", 
    "    tps = [\n", 
    "        TopicPartition(topic_dst, x)\n", 
    "        for x in sorted(consumer.partitions_for_topic(topic_dst))\n", 
    "    ]\n", 
    "    consumer.assign(tps)"
   ]
  }, 
  {
   "cell_type": "markdown", 
   "metadata": {}, 
   "source": [
    "consumerの読み取り位置を最後に移動します。"
   ]
  }, 
  {
   "cell_type": "code", 
   "execution_count": null, 
   "metadata": {}, 
   "outputs": [], 
   "source": [
    "# 最後に処理した画像から表示します\n", 
    "if partitions is not None:\n", 
    "    for tp in tps:\n", 
    "        consumer.seek_to_end(tp)"
   ]
  }, 
  {
   "cell_type": "markdown", 
   "metadata": {}, 
   "source": [
    "アニメーション表示をの表示で画像を間引く場合は、次のセルで値を指定してください。"
   ]
  }, 
  {
   "cell_type": "code", 
   "execution_count": null, 
   "metadata": {}, 
   "outputs": [], 
   "source": [
    "image_step = 1"
   ]
  }, 
  {
   "cell_type": "markdown", 
   "metadata": {}, 
   "source": [
    "アニメーションを表示します。"
   ]
  }, 
  {
   "cell_type": "code", 
   "execution_count": null, 
   "metadata": {
    "scrolled": false
   }, 
   "outputs": [], 
   "source": [
    "%matplotlib notebook\n", 
    "import matplotlib.pyplot as plt\n", 
    "import matplotlib.animation as animation\n", 
    "import numpy as np\n", 
    "from PIL import Image\n", 
    "from io import BytesIO\n", 
    "from itertools import islice\n", 
    "\n", 
    "def update(msg):\n", 
    "    im = Image.open(BytesIO(msg.value))\n", 
    "    im_list = np.asarray(im)\n", 
    "    plt.clf()\n", 
    "    plt.imshow(im_list)\n", 
    "    \n", 
    "fig, ax = plt.subplots()\n", 
    "it = islice(consumer, 0, None, image_step) if 'image_step' in globals() else consumer\n", 
    "hoge = animation.FuncAnimation(fig, update, it, interval=25)\n", 
    "plt.show()"
   ]
  }, 
  {
   "cell_type": "markdown", 
   "metadata": {}, 
   "source": [
    "アニメーション表示が遅れているようでしたら、次のセルを実行してコンシューマのデータ取得位置を最後に移動してください。"
   ]
  }, 
  {
   "cell_type": "code", 
   "execution_count": null, 
   "metadata": {}, 
   "outputs": [], 
   "source": [
    "for tp in tps:\n", 
    "    consumer.seek_to_end(tp)"
   ]
  }, 
  {
   "cell_type": "markdown", 
   "metadata": {}, 
   "source": [
    "# 後始末"
   ]
  }, 
  {
   "cell_type": "markdown", 
   "metadata": {}, 
   "source": [
    "Consumerをクローズします。"
   ]
  }, 
  {
   "cell_type": "code", 
   "execution_count": null, 
   "metadata": {}, 
   "outputs": [], 
   "source": [
    "consumer.close()"
   ]
  }
 ], 
 "metadata": {
  "kernelspec": {
   "display_name": "Python 3", 
   "language": "python", 
   "name": "python3"
  }, 
  "language_info": {
   "codemirror_mode": {
    "name": "ipython", 
    "version": 3
   }, 
   "file_extension": ".py", 
   "mimetype": "text/x-python", 
   "name": "python", 
   "nbconvert_exporter": "python", 
   "pygments_lexer": "ipython3", 
   "version": "3.6.6"
  }, 
  "toc": {
   "base_numbering": 1, 
   "nav_menu": {}, 
   "number_sections": true, 
   "sideBar": true, 
   "skip_h1_title": false, 
   "title_cell": "Table of Contents", 
   "title_sidebar": "Contents", 
   "toc_cell": false, 
   "toc_position": {
    "height": "calc(100% - 180px)", 
    "left": "10px", 
    "top": "150px", 
    "width": "284px"
   }, 
   "toc_section_display": true, 
   "toc_window_display": true
  }
 }, 
 "nbformat": 4, 
 "nbformat_minor": 2
}
